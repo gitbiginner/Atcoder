{
 "cells": [
  {
   "cell_type": "code",
   "execution_count": 1,
   "metadata": {},
   "outputs": [
    {
     "name": "stdout",
     "output_type": "stream",
     "text": [
      "H\n"
     ]
    }
   ],
   "source": [
    "print('H')"
   ]
  },
  {
   "cell_type": "code",
   "execution_count": null,
   "metadata": {},
   "outputs": [],
   "source": [
    "N = int(input())\n",
    "T = list(map(int, input().split()))\n",
    "T.sort(reverse=True)\n",
    "sa = 0\n",
    "sA = 0\n",
    "\n",
    "if N ==1:\n",
    "    ans = T[0]\n",
    "else:\n",
    "    for i in T:\n",
    "        if sa >= sA:\n",
    "            sA+=i\n",
    "        else:\n",
    "            sa+=i\n",
    "\n",
    "    if sa>= sA:\n",
    "        ans = sa\n",
    "    else:\n",
    "        ans = sA\n",
    "\n",
    "print(ans)\n",
    "\n"
   ]
  },
  {
   "cell_type": "code",
   "execution_count": null,
   "metadata": {},
   "outputs": [],
   "source": [
    "N=int(input())\n",
    "# Tは先頭に[0]を追加して受け取り\n",
    "T=[0]+list(map(int, input().split()))\n",
    "\n",
    "# Tの合計\n",
    "T_sum=sum(T)\n",
    "\n",
    "# (1)表を作る 全体像を作る（全てFalse）\n",
    "# 『i番目までの数を組み合わせてKを作れるか』\n",
    "# 例：『3番目までの数を組み合わせて「7」を作れる』→ dp[3][7]=True\n",
    "dp=[[False]*(T_sum+1) for i in range(N+1)]\n",
    "\n",
    "# (2)すぐにわかるところを埋める\n",
    "# 『0番目までの数を組み合わせて「0」を作れる\n",
    "dp[0][0]=True\n",
    "\n",
    "# (3)表の小さい方から答えにたどり着くまで埋める\n",
    "# i=1~N\n",
    "for i in range(1,N+1):\n",
    "    # K=0~T_sum Kを作れるか確認\n",
    "    for K in range(T_sum+1):\n",
    "        # 『(i-1)番目までの数を組み合わせてKを作れる』(→dp[i-1][K]=True)ならば\n",
    "        if dp[i-1][K]==True:\n",
    "            # 『i番目までの数を組み合わせてKを作れる』(→dp[i][K]=True)\n",
    "            dp[i][K]=True\n",
    "        # 0<=K-T[i] かつ『(i-1)番目までの数を組み合わせてK-T[i]を作れる』ならば(dp[i-1][K-T[i]]=True)\n",
    "        if 0<=K-T[i] and dp[i-1][K-T[i]]==True:\n",
    "            # 『i番目までの数を組み合わせてKを作れる』(→dp[i][K]=True)            \n",
    "            dp[i][K]=True\n",
    "\n",
    "# 答えを格納する変数(初期値はバカでかい数)\n",
    "ans=10**15\n",
    "\n",
    "# (4)答えを出力する\n",
    "# K=0~T_sum\n",
    "for K in range(T_sum+1):\n",
    "    # 『N番目までの数を組み合わせてKを作れる』ならば\n",
    "    if dp[N][K]==True:\n",
    "        # max(K,T_sum-K)が料理をすべて作るのにかかる時間=答えの候補\n",
    "        # それまでのansより小さければ更新\n",
    "        ans=min(ans,max(K,T_sum-K))\n",
    "\n",
    "# 答えの出力\n",
    "print(ans)"
   ]
  },
  {
   "cell_type": "code",
   "execution_count": 1,
   "metadata": {},
   "outputs": [],
   "source": [
    "T_sum = 10\n",
    "N = 8\n",
    "\n",
    "dp=[[False]*(T_sum+1) for i in range(N+1)]"
   ]
  },
  {
   "cell_type": "code",
   "execution_count": 2,
   "metadata": {},
   "outputs": [
    {
     "data": {
      "text/plain": [
       "[[False, False, False, False, False, False, False, False, False, False, False],\n",
       " [False, False, False, False, False, False, False, False, False, False, False],\n",
       " [False, False, False, False, False, False, False, False, False, False, False],\n",
       " [False, False, False, False, False, False, False, False, False, False, False],\n",
       " [False, False, False, False, False, False, False, False, False, False, False],\n",
       " [False, False, False, False, False, False, False, False, False, False, False],\n",
       " [False, False, False, False, False, False, False, False, False, False, False],\n",
       " [False, False, False, False, False, False, False, False, False, False, False],\n",
       " [False, False, False, False, False, False, False, False, False, False, False]]"
      ]
     },
     "execution_count": 2,
     "metadata": {},
     "output_type": "execute_result"
    }
   ],
   "source": [
    "dp"
   ]
  },
  {
   "cell_type": "code",
   "execution_count": null,
   "metadata": {},
   "outputs": [],
   "source": []
  }
 ],
 "metadata": {
  "kernelspec": {
   "display_name": "Python 3.8.4 64-bit",
   "language": "python",
   "name": "python3"
  },
  "language_info": {
   "codemirror_mode": {
    "name": "ipython",
    "version": 3
   },
   "file_extension": ".py",
   "mimetype": "text/x-python",
   "name": "python",
   "nbconvert_exporter": "python",
   "pygments_lexer": "ipython3",
   "version": "3.8.4"
  },
  "orig_nbformat": 4,
  "vscode": {
   "interpreter": {
    "hash": "570feb405e2e27c949193ac68f46852414290d515b0ba6e5d90d076ed2284471"
   }
  }
 },
 "nbformat": 4,
 "nbformat_minor": 2
}
