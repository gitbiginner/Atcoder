{
 "cells": [
  {
   "cell_type": "code",
   "execution_count": 7,
   "metadata": {},
   "outputs": [
    {
     "name": "stdout",
     "output_type": "stream",
     "text": [
      "H\n"
     ]
    }
   ],
   "source": [
    "print('H')"
   ]
  },
  {
   "cell_type": "code",
   "execution_count": null,
   "metadata": {},
   "outputs": [],
   "source": []
  },
  {
   "cell_type": "code",
   "execution_count": null,
   "metadata": {},
   "outputs": [],
   "source": []
  },
  {
   "cell_type": "code",
   "execution_count": 8,
   "metadata": {},
   "outputs": [
    {
     "ename": "ValueError",
     "evalue": "invalid literal for int() with base 10: '2 3 4 '",
     "output_type": "error",
     "traceback": [
      "\u001b[1;31m---------------------------------------------------------------------------\u001b[0m",
      "\u001b[1;31mValueError\u001b[0m                                Traceback (most recent call last)",
      "\u001b[1;32mC:\\Users\\BARUAL~1\\AppData\\Local\\Temp/ipykernel_5152/1663517028.py\u001b[0m in \u001b[0;36m<module>\u001b[1;34m\u001b[0m\n\u001b[1;32m----> 1\u001b[1;33m \u001b[0mN\u001b[0m \u001b[1;33m=\u001b[0m \u001b[0mint\u001b[0m\u001b[1;33m(\u001b[0m\u001b[0minput\u001b[0m\u001b[1;33m(\u001b[0m\u001b[1;33m)\u001b[0m\u001b[1;33m)\u001b[0m\u001b[1;33m\u001b[0m\u001b[1;33m\u001b[0m\u001b[0m\n\u001b[0m\u001b[0;32m      2\u001b[0m \u001b[0mT\u001b[0m \u001b[1;33m=\u001b[0m \u001b[0mlist\u001b[0m\u001b[1;33m(\u001b[0m\u001b[0mmap\u001b[0m\u001b[1;33m(\u001b[0m\u001b[0mint\u001b[0m\u001b[1;33m,\u001b[0m \u001b[0minput\u001b[0m\u001b[1;33m(\u001b[0m\u001b[1;33m)\u001b[0m\u001b[1;33m.\u001b[0m\u001b[0msplit\u001b[0m\u001b[1;33m(\u001b[0m\u001b[1;33m)\u001b[0m\u001b[1;33m)\u001b[0m\u001b[1;33m)\u001b[0m\u001b[1;33m\u001b[0m\u001b[1;33m\u001b[0m\u001b[0m\n\u001b[0;32m      3\u001b[0m \u001b[0mT\u001b[0m\u001b[1;33m.\u001b[0m\u001b[0msort\u001b[0m\u001b[1;33m(\u001b[0m\u001b[0mreverse\u001b[0m\u001b[1;33m=\u001b[0m\u001b[1;32mTrue\u001b[0m\u001b[1;33m)\u001b[0m\u001b[1;33m\u001b[0m\u001b[1;33m\u001b[0m\u001b[0m\n\u001b[0;32m      4\u001b[0m \u001b[0msa\u001b[0m \u001b[1;33m=\u001b[0m \u001b[1;36m0\u001b[0m\u001b[1;33m\u001b[0m\u001b[1;33m\u001b[0m\u001b[0m\n\u001b[0;32m      5\u001b[0m \u001b[0msA\u001b[0m \u001b[1;33m=\u001b[0m \u001b[1;36m0\u001b[0m\u001b[1;33m\u001b[0m\u001b[1;33m\u001b[0m\u001b[0m\n",
      "\u001b[1;31mValueError\u001b[0m: invalid literal for int() with base 10: '2 3 4 '"
     ]
    }
   ],
   "source": [
    "N = int(input())\n",
    "T = list(map(int, input().split()))\n",
    "T.sort(reverse=True)\n",
    "sa = 0\n",
    "sA = 0\n",
    "\n",
    "if N ==1:\n",
    "    ans = T[0]\n",
    "else:\n",
    "    for i in T:\n",
    "        if sa >= sA:\n",
    "            sA+=i\n",
    "        else:\n",
    "            sa+=i\n",
    "\n",
    "    if sa>= sA:\n",
    "        ans = sa\n",
    "    else:\n",
    "        ans = sA\n",
    "\n",
    "print(ans)\n",
    "\n"
   ]
  },
  {
   "cell_type": "code",
   "execution_count": null,
   "metadata": {},
   "outputs": [],
   "source": [
    "N=int(input())\n",
    "# Tは先頭に[0]を追加して受け取り\n",
    "T=[0]+list(map(int, input().split()))\n",
    "\n",
    "# Tの合計\n",
    "T_sum=sum(T)\n",
    "\n",
    "# (1)表を作る 全体像を作る（全てFalse）\n",
    "# 『i番目までの数を組み合わせてKを作れるか』\n",
    "# 例：『3番目までの数を組み合わせて「7」を作れる』→ dp[3][7]=True\n",
    "dp=[[False]*(T_sum+1) for i in range(N+1)]\n",
    "\n",
    "# (2)すぐにわかるところを埋める\n",
    "# 『0番目までの数を組み合わせて「0」を作れる\n",
    "dp[0][0]=True\n",
    "\n",
    "# (3)表の小さい方から答えにたどり着くまで埋める\n",
    "# i=1~N\n",
    "for i in range(1,N+1):\n",
    "    # K=0~T_sum Kを作れるか確認\n",
    "    for K in range(T_sum+1):\n",
    "        # 『(i-1)番目までの数を組み合わせてKを作れる』(→dp[i-1][K]=True)ならば\n",
    "        if dp[i-1][K]==True:\n",
    "            # 『i番目までの数を組み合わせてKを作れる』(→dp[i][K]=True)\n",
    "            dp[i][K]=True\n",
    "        # 0<=K-T[i] かつ『(i-1)番目までの数を組み合わせてK-T[i]を作れる』ならば(dp[i-1][K-T[i]]=True)\n",
    "        if 0<=K-T[i] and dp[i-1][K-T[i]]==True:\n",
    "            # 『i番目までの数を組み合わせてKを作れる』(→dp[i][K]=True)            \n",
    "            dp[i][K]=True\n",
    "\n",
    "# 答えを格納する変数(初期値はバカでかい数)\n",
    "ans=10**15\n",
    "\n",
    "# (4)答えを出力する\n",
    "# K=0~T_sum\n",
    "for K in range(T_sum+1):\n",
    "    # 『N番目までの数を組み合わせてKを作れる』ならば\n",
    "    if dp[N][K]==True:\n",
    "        # max(K,T_sum-K)が料理をすべて作るのにかかる時間=答えの候補\n",
    "        # それまでのansより小さければ更新\n",
    "        ans=min(ans,max(K,T_sum-K))\n",
    "\n",
    "# 答えの出力\n",
    "print(ans)"
   ]
  },
  {
   "cell_type": "code",
   "execution_count": null,
   "metadata": {},
   "outputs": [],
   "source": [
    "T_sum = 10\n",
    "N = 8\n",
    "\n",
    "dp=[[False]*(T_sum+1) for i in range(N+1)]"
   ]
  },
  {
   "cell_type": "code",
   "execution_count": null,
   "metadata": {},
   "outputs": [
    {
     "data": {
      "text/plain": [
       "[[False, False, False, False, False, False, False, False, False, False, False],\n",
       " [False, False, False, False, False, False, False, False, False, False, False],\n",
       " [False, False, False, False, False, False, False, False, False, False, False],\n",
       " [False, False, False, False, False, False, False, False, False, False, False],\n",
       " [False, False, False, False, False, False, False, False, False, False, False],\n",
       " [False, False, False, False, False, False, False, False, False, False, False],\n",
       " [False, False, False, False, False, False, False, False, False, False, False],\n",
       " [False, False, False, False, False, False, False, False, False, False, False],\n",
       " [False, False, False, False, False, False, False, False, False, False, False]]"
      ]
     },
     "execution_count": 2,
     "metadata": {},
     "output_type": "execute_result"
    }
   ],
   "source": [
    "dp"
   ]
  },
  {
   "cell_type": "code",
   "execution_count": null,
   "metadata": {},
   "outputs": [
    {
     "name": "stdout",
     "output_type": "stream",
     "text": [
      "yes\n"
     ]
    }
   ],
   "source": [
    "#205 B\n",
    "\n",
    "N = int(input())\n",
    "\n",
    "A = map(list(int, input().split()))\n",
    "\n",
    "\n",
    "\n",
    "Nlist = [n for n in range(1, N+1)]\n",
    "A.sort()\n",
    "\n",
    "if Nlist == A:\n",
    "    print(\"Yes\")\n",
    "else:\n",
    "    print(\"No\")"
   ]
  },
  {
   "cell_type": "code",
   "execution_count": null,
   "metadata": {},
   "outputs": [
    {
     "data": {
      "text/plain": [
       "[False, False, False, False, False, False]"
      ]
     },
     "execution_count": 6,
     "metadata": {},
     "output_type": "execute_result"
    }
   ],
   "source": [
    "numbers=[False]*(5+1)\n",
    "numbers"
   ]
  },
  {
   "cell_type": "code",
   "execution_count": 9,
   "metadata": {},
   "outputs": [
    {
     "ename": "SyntaxError",
     "evalue": "invalid syntax (Temp/ipykernel_5152/3714153600.py, line 17)",
     "output_type": "error",
     "traceback": [
      "\u001b[1;36m  File \u001b[1;32m\"C:\\Users\\BARUAL~1\\AppData\\Local\\Temp/ipykernel_5152/3714153600.py\"\u001b[1;36m, line \u001b[1;32m17\u001b[0m\n\u001b[1;33m    if B>=0:else:print(\"<\")\u001b[0m\n\u001b[1;37m            ^\u001b[0m\n\u001b[1;31mSyntaxError\u001b[0m\u001b[1;31m:\u001b[0m invalid syntax\n"
     ]
    }
   ],
   "source": [
    "A, B, C = map(int,input().split())\n",
    "\n",
    "if C % 2 ==0:\n",
    "    if abs(A) > abs(B):print(\">\")\n",
    "    elif abs(A) == abs(B):print(\"=\")\n",
    "    else:print(\"<\")\n",
    "\n",
    "else:\n",
    "    if A>=0 :\n",
    "        if B>=0:\n",
    "            if abs(A) < abs(B):print(\"<\")\n",
    "            elif abs(A) == abs(B):print(\"=\")\n",
    "            else:print(\">\")\n",
    "        else:print(\">\")\n",
    "\n",
    "    else:\n",
    "        if B>=0:print(\"<\")\n",
    "        else:\n",
    "            if abs(A)<abs(B):\n",
    "                print(\">\")\n",
    "            elif abs(A) == abs(B):\n",
    "                print(\"=\")\n",
    "            else:\n",
    "                print(\"<\")\n",
    "\n",
    "\n",
    "\n",
    "\n"
   ]
  },
  {
   "cell_type": "code",
   "execution_count": null,
   "metadata": {},
   "outputs": [],
   "source": [
    "A,B,C=map(int, input().split())\n",
    "\n",
    "if C%2==0:\n",
    "    if abs(A)<abs(B):print(\"<\")\n",
    "    elif abs(A)==abs(B):print(\"=\")\n",
    "    else:print(\">\")\n",
    "else:\n",
    "    if 0<=A:\n",
    "        if 0<=B:\n",
    "            if abs(A)<abs(B):print(\"<\")\n",
    "            elif abs(A)==abs(B):print(\"=\")\n",
    "            else:print(\">\")\n",
    "        else:print(\">\")\n",
    "    else:\n",
    "        if 0<=B:print(\"<\")\n",
    "        else:\n",
    "            if abs(A)<abs(B):print(\">\")\n",
    "            elif abs(A)==abs(B):print(\"=\")\n",
    "            else:print(\"<\")"
   ]
  },
  {
   "cell_type": "markdown",
   "metadata": {},
   "source": []
  },
  {
   "cell_type": "code",
   "execution_count": null,
   "metadata": {},
   "outputs": [],
   "source": [
    "N, Q =map(int, input().split())\n",
    "\n",
    "A= [0] + list(map(int, input().split())) + [10**19]\n",
    "\n",
    "K=list(map(int))\n",
    "\n",
    "query  = []\n",
    "for q in range(Q):\n",
    "    query.append([K[q], q])\n",
    "\n",
    "query.sort()\n",
    "\n",
    "ans = [0]*Q\n",
    "\n",
    "order_left = 0\n",
    "x=0\n",
    "\n",
    "for i in range(N+1):\n",
    "    order_right = order_left + A[i+1]-A[i]-1\n",
    "\n",
    "    while x < Q:\n",
    "        K=query[x][0]\n",
    "        q=query[x][1]\n",
    "\n",
    "        if order_left < K <= order_right:\n",
    "            ans[q] = A[i]+K-order_right\n",
    "            x+=1\n",
    "        \n",
    "        else:\n",
    "            order_left = order_right\n",
    "            break\n",
    "\n",
    "for i in ans:\n",
    "    print(i)\n",
    "\n",
    "    \n",
    "\n",
    "\n",
    "\n"
   ]
  },
  {
   "cell_type": "code",
   "execution_count": 10,
   "metadata": {},
   "outputs": [
    {
     "ename": "TypeError",
     "evalue": "'int' object is not iterable",
     "output_type": "error",
     "traceback": [
      "\u001b[1;31m---------------------------------------------------------------------------\u001b[0m",
      "\u001b[1;31mTypeError\u001b[0m                                 Traceback (most recent call last)",
      "\u001b[1;32mC:\\Users\\BARUAL~1\\AppData\\Local\\Temp/ipykernel_5152/3011121901.py\u001b[0m in \u001b[0;36m<module>\u001b[1;34m\u001b[0m\n\u001b[1;32m----> 1\u001b[1;33m \u001b[1;32mfor\u001b[0m \u001b[0mi\u001b[0m \u001b[1;32min\u001b[0m \u001b[1;36m10\u001b[0m\u001b[1;33m:\u001b[0m\u001b[1;33m\u001b[0m\u001b[1;33m\u001b[0m\u001b[0m\n\u001b[0m\u001b[0;32m      2\u001b[0m     \u001b[0mprint\u001b[0m\u001b[1;33m(\u001b[0m\u001b[0mi\u001b[0m\u001b[1;33m)\u001b[0m\u001b[1;33m\u001b[0m\u001b[1;33m\u001b[0m\u001b[0m\n\u001b[0;32m      3\u001b[0m \u001b[1;33m\u001b[0m\u001b[0m\n",
      "\u001b[1;31mTypeError\u001b[0m: 'int' object is not iterable"
     ]
    }
   ],
   "source": [
    "for i in 10:\n",
    "    print(i)\n",
    "    "
   ]
  },
  {
   "cell_type": "code",
   "execution_count": 4,
   "metadata": {},
   "outputs": [
    {
     "ename": "TypeError",
     "evalue": "object of type 'int' has no len()",
     "output_type": "error",
     "traceback": [
      "\u001b[1;31m---------------------------------------------------------------------------\u001b[0m",
      "\u001b[1;31mTypeError\u001b[0m                                 Traceback (most recent call last)",
      "\u001b[1;32mC:\\Users\\BARUAL~1\\AppData\\Local\\Temp/ipykernel_14200/3090159242.py\u001b[0m in \u001b[0;36m<module>\u001b[1;34m\u001b[0m\n\u001b[0;32m      1\u001b[0m \u001b[0mN\u001b[0m\u001b[1;33m=\u001b[0m\u001b[1;36m10\u001b[0m\u001b[1;33m\u001b[0m\u001b[1;33m\u001b[0m\u001b[0m\n\u001b[1;32m----> 2\u001b[1;33m \u001b[0mrange\u001b[0m\u001b[1;33m(\u001b[0m\u001b[0mlen\u001b[0m\u001b[1;33m(\u001b[0m\u001b[1;36m10\u001b[0m\u001b[1;33m)\u001b[0m\u001b[1;33m)\u001b[0m\u001b[1;33m\u001b[0m\u001b[1;33m\u001b[0m\u001b[0m\n\u001b[0m",
      "\u001b[1;31mTypeError\u001b[0m: object of type 'int' has no len()"
     ]
    }
   ],
   "source": [
    "N=10\n",
    "range(len(10))"
   ]
  },
  {
   "cell_type": "code",
   "execution_count": null,
   "metadata": {},
   "outputs": [],
   "source": [
    "N=int(input())\n",
    " \n",
    " \n",
    "ans = 0\n",
    " \n",
    "for n in range(1, N+1):\n",
    "    ans += n\n",
    "    if ans >= N:\n",
    "        print(n)\n",
    "        break\n",
    "    else:\n",
    "        pass\n",
    "    \n"
   ]
  },
  {
   "cell_type": "code",
   "execution_count": null,
   "metadata": {},
   "outputs": [],
   "source": [
    "N = int(input())\n",
    "A = list(map(int, input().split()))\n",
    "ans = 0\n",
    "Book = [[False]*N]*N\n",
    "\n",
    "for i in range(N):\n",
    "    for j in range(N):\n",
    "        if i>= j:\n",
    "            pass\n",
    "        else:\n",
    "            if A[i]!=A[j]:\n",
    "                Book[i][j] = True\n",
    "                ans+=1\n",
    "            else:\n",
    "                pass\n",
    "\n",
    "print(ans)"
   ]
  },
  {
   "cell_type": "code",
   "execution_count": 11,
   "metadata": {},
   "outputs": [
    {
     "data": {
      "text/plain": [
       "[[False, False, False], [False, False, False], [False, False, False]]"
      ]
     },
     "execution_count": 11,
     "metadata": {},
     "output_type": "execute_result"
    }
   ],
   "source": [
    "\n",
    "Book=[[False]*3]*3\n",
    "Book\n"
   ]
  },
  {
   "cell_type": "code",
   "execution_count": 21,
   "metadata": {},
   "outputs": [
    {
     "name": "stdout",
     "output_type": "stream",
     "text": [
      "5\n"
     ]
    }
   ],
   "source": [
    "A = [2,3,4,5,3,1]\n",
    "lA  = list(set(A))\n",
    "lA\n",
    "\n",
    "\n",
    "def nCr(n, r):\n",
    "    nume = factorial(n)\n",
    "    denomi = factorial(n-r)* factorial(r)\n",
    "    return nume/denomi\n",
    "\n",
    "\n",
    "print(len(lA))"
   ]
  },
  {
   "cell_type": "code",
   "execution_count": 16,
   "metadata": {},
   "outputs": [
    {
     "ename": "ValueError",
     "evalue": "factorial() not defined for negative values",
     "output_type": "error",
     "traceback": [
      "\u001b[1;31m---------------------------------------------------------------------------\u001b[0m",
      "\u001b[1;31mValueError\u001b[0m                                Traceback (most recent call last)",
      "\u001b[1;32mC:\\Users\\BARUAL~1\\AppData\\Local\\Temp/ipykernel_14200/1738181698.py\u001b[0m in \u001b[0;36m<module>\u001b[1;34m\u001b[0m\n\u001b[0;32m      9\u001b[0m \u001b[1;33m\u001b[0m\u001b[0m\n\u001b[0;32m     10\u001b[0m \u001b[0mAA\u001b[0m  \u001b[1;33m=\u001b[0m \u001b[0mlist\u001b[0m\u001b[1;33m(\u001b[0m\u001b[0mset\u001b[0m\u001b[1;33m(\u001b[0m\u001b[0mA\u001b[0m\u001b[1;33m)\u001b[0m\u001b[1;33m)\u001b[0m\u001b[1;33m\u001b[0m\u001b[1;33m\u001b[0m\u001b[0m\n\u001b[1;32m---> 11\u001b[1;33m \u001b[0mans\u001b[0m \u001b[1;33m=\u001b[0m \u001b[0mnCr\u001b[0m\u001b[1;33m(\u001b[0m\u001b[0mlen\u001b[0m\u001b[1;33m(\u001b[0m\u001b[0mAA\u001b[0m\u001b[1;33m)\u001b[0m\u001b[1;33m,\u001b[0m \u001b[1;36m2\u001b[0m\u001b[1;33m)\u001b[0m\u001b[1;33m\u001b[0m\u001b[1;33m\u001b[0m\u001b[0m\n\u001b[0m\u001b[0;32m     12\u001b[0m \u001b[1;33m\u001b[0m\u001b[0m\n\u001b[0;32m     13\u001b[0m \u001b[0mprint\u001b[0m\u001b[1;33m(\u001b[0m\u001b[0mans\u001b[0m\u001b[1;33m)\u001b[0m\u001b[1;33m\u001b[0m\u001b[1;33m\u001b[0m\u001b[0m\n",
      "\u001b[1;32mC:\\Users\\BARUAL~1\\AppData\\Local\\Temp/ipykernel_14200/1738181698.py\u001b[0m in \u001b[0;36mnCr\u001b[1;34m(n, r)\u001b[0m\n\u001b[0;32m      5\u001b[0m \u001b[1;32mdef\u001b[0m \u001b[0mnCr\u001b[0m\u001b[1;33m(\u001b[0m\u001b[0mn\u001b[0m\u001b[1;33m,\u001b[0m \u001b[0mr\u001b[0m\u001b[1;33m)\u001b[0m\u001b[1;33m:\u001b[0m\u001b[1;33m\u001b[0m\u001b[1;33m\u001b[0m\u001b[0m\n\u001b[0;32m      6\u001b[0m     \u001b[0mnume\u001b[0m \u001b[1;33m=\u001b[0m \u001b[0mfactorial\u001b[0m\u001b[1;33m(\u001b[0m\u001b[0mn\u001b[0m\u001b[1;33m)\u001b[0m\u001b[1;33m\u001b[0m\u001b[1;33m\u001b[0m\u001b[0m\n\u001b[1;32m----> 7\u001b[1;33m     \u001b[0mdenomi\u001b[0m \u001b[1;33m=\u001b[0m \u001b[0mfactorial\u001b[0m\u001b[1;33m(\u001b[0m\u001b[0mn\u001b[0m\u001b[1;33m-\u001b[0m\u001b[0mr\u001b[0m\u001b[1;33m)\u001b[0m\u001b[1;33m*\u001b[0m \u001b[0mfactorial\u001b[0m\u001b[1;33m(\u001b[0m\u001b[0mr\u001b[0m\u001b[1;33m)\u001b[0m\u001b[1;33m\u001b[0m\u001b[1;33m\u001b[0m\u001b[0m\n\u001b[0m\u001b[0;32m      8\u001b[0m     \u001b[1;32mreturn\u001b[0m \u001b[0mnume\u001b[0m\u001b[1;33m/\u001b[0m\u001b[0mdenomi\u001b[0m\u001b[1;33m\u001b[0m\u001b[1;33m\u001b[0m\u001b[0m\n\u001b[0;32m      9\u001b[0m \u001b[1;33m\u001b[0m\u001b[0m\n",
      "\u001b[1;31mValueError\u001b[0m: factorial() not defined for negative values"
     ]
    }
   ],
   "source": [
    "N =int(input())\n",
    "A = list(map(int, input().split()))\n",
    "\n",
    "from math import factorial\n",
    "def nCr(n, r):\n",
    "    nume = factorial(n)\n",
    "    denomi = factorial(n-r)* factorial(r)\n",
    "    return nume//denomi\n",
    "\n",
    "AA  = list(set(A))\n",
    "ans = nCr(len(AA), 2)\n",
    "\n",
    "print(ans)"
   ]
  },
  {
   "cell_type": "code",
   "execution_count": 17,
   "metadata": {},
   "outputs": [
    {
     "name": "stdout",
     "output_type": "stream",
     "text": [
      "6.0\n"
     ]
    }
   ],
   "source": [
    "from math import factorial\n",
    "ans = nCr(4, 2)\n",
    "\n",
    "print(ans)"
   ]
  },
  {
   "cell_type": "code",
   "execution_count": 27,
   "metadata": {},
   "outputs": [
    {
     "name": "stdout",
     "output_type": "stream",
     "text": [
      "defaultdict(<class 'int'>, {2: 2, 3: 2, 4: 1})\n"
     ]
    }
   ],
   "source": [
    "from collections import defaultdict\n",
    "\n",
    "count = defaultdict(int)\n",
    "A=[2,3,2,3,4]\n",
    "for i in range(len(A)):\n",
    "    count[A[i]]+=1\n",
    "\n",
    "print(count)"
   ]
  },
  {
   "cell_type": "code",
   "execution_count": 28,
   "metadata": {},
   "outputs": [
    {
     "name": "stdout",
     "output_type": "stream",
     "text": [
      "dict_values([2, 2, 1])\n"
     ]
    }
   ],
   "source": [
    "print(count.values())"
   ]
  },
  {
   "cell_type": "code",
   "execution_count": null,
   "metadata": {},
   "outputs": [],
   "source": [
    "N= int(input())\n",
    "A = list(map(int, input().split()))\n",
    "\n",
    "from collections import defaultdict\n",
    "count = defaultdict(int)\n",
    "\n",
    "ans = N*(N-1) // 2\n",
    "\n",
    "for i in range(len(A)):\n",
    "    count[A[i]]+=1\n",
    "\n",
    "for x in count.values():\n",
    "    same = x*(x-1)//2\n",
    "    ans-=same\n",
    "\n",
    "print(ans)"
   ]
  },
  {
   "cell_type": "code",
   "execution_count": null,
   "metadata": {},
   "outputs": [],
   "source": []
  },
  {
   "cell_type": "code",
   "execution_count": null,
   "metadata": {},
   "outputs": [],
   "source": [
    "N = int(input())\n",
    "t = list(map(int, input().split()))\n",
    "l = list(map(int, input().split()))\n",
    "r = list(map(int, input().split()))"
   ]
  },
  {
   "cell_type": "code",
   "execution_count": null,
   "metadata": {},
   "outputs": [],
   "source": [
    "for i in range(N):\n",
    "    "
   ]
  },
  {
   "cell_type": "markdown",
   "metadata": {},
   "source": [
    "#### 206 D UnionFind"
   ]
  },
  {
   "cell_type": "code",
   "execution_count": 5,
   "metadata": {},
   "outputs": [
    {
     "name": "stdout",
     "output_type": "stream",
     "text": [
      "0\n"
     ]
    }
   ],
   "source": [
    "class UnionFind:\n",
    "    def __init__(self, n):\n",
    "        self.n = n\n",
    "        self.parent_size=[-1]*n\n",
    "    \n",
    "    def leader(self, a):\n",
    "        if self.parent_size[a]<0: return a\n",
    "        self.parent_size[a]=self.leader(self.parent_size[a])\n",
    "        return self.parent_size[a]\n",
    "\n",
    "    def merge(self, a, b):\n",
    "        x, y=self.leader(a), self.leader(b)\n",
    "        if x==y: return\n",
    "        if abs(self.parent_size[x]<self.parent_size[y]):x, y=y,x\n",
    "        self.parent_size[x] += self.parent_size[y]\n",
    "        self.parent_size[y] = x\n",
    "        return \n",
    "    \n",
    "    def same(self, a, b):\n",
    "        return self.leader(a) == self.leader(b)\n",
    "\n",
    "    def size(self, a):\n",
    "        return abs(self.parent_size[self.leader(a)])\n",
    "\n",
    "    def groups(self):\n",
    "        result = [[] for _ in range(self.n)]\n",
    "        for i in rane(self.n):\n",
    "            result[self.leader(i)].append(i)\n",
    "        return [r for r in result if r != []]\n",
    "\n",
    "N= int(input())\n",
    "A = list(map(int, input().split()))\n",
    "\n",
    "UF = UnionFind(10**6)\n",
    "ans=0\n",
    "\n",
    "for i in range(N//2):\n",
    "    A_left = A[i]\n",
    "    A_right = A[N-i-1]\n",
    "\n",
    "    if UF.same(A_left, A_right)==False:\n",
    "        ans+=1\n",
    "\n",
    "        UF.merge(A_left, A_right)\n",
    "print(ans)\n",
    "\n",
    "\n"
   ]
  },
  {
   "cell_type": "code",
   "execution_count": null,
   "metadata": {},
   "outputs": [],
   "source": []
  },
  {
   "cell_type": "code",
   "execution_count": null,
   "metadata": {},
   "outputs": [],
   "source": [
    "N= int(input())\n",
    "A = list(map(int, input().split())\n",
    "\n",
    "UF = UnionFind(10**6)\n",
    "ans=0\n",
    "\n",
    "# // divide to answer integer type\n",
    "for i in range(N//2):\n",
    "    A_left = A[i]\n",
    "    A_right = A[N-i-1]\n",
    "\n",
    "    if UF.same(A_left, A_right)==False:\n",
    "        ans += 1\n",
    "        UF.merge(A_left, A_right)\n",
    "print(ans)\n",
    "#not use group function\n",
    "#not use size function\n"
   ]
  },
  {
   "cell_type": "code",
   "execution_count": null,
   "metadata": {},
   "outputs": [],
   "source": []
  },
  {
   "cell_type": "code",
   "execution_count": null,
   "metadata": {},
   "outputs": [],
   "source": []
  }
 ],
 "metadata": {
  "kernelspec": {
   "display_name": "Python 3.8.4 64-bit",
   "language": "python",
   "name": "python3"
  },
  "language_info": {
   "codemirror_mode": {
    "name": "ipython",
    "version": 3
   },
   "file_extension": ".py",
   "mimetype": "text/x-python",
   "name": "python",
   "nbconvert_exporter": "python",
   "pygments_lexer": "ipython3",
   "version": "3.8.4"
  },
  "orig_nbformat": 4,
  "vscode": {
   "interpreter": {
    "hash": "570feb405e2e27c949193ac68f46852414290d515b0ba6e5d90d076ed2284471"
   }
  }
 },
 "nbformat": 4,
 "nbformat_minor": 2
}
