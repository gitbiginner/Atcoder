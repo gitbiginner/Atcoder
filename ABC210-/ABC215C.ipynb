{
 "cells": [
  {
   "cell_type": "markdown",
   "metadata": {},
   "source": [
    "https://atcoder.jp/contests/abc215/tasks/abc215_c"
   ]
  },
  {
   "cell_type": "code",
   "execution_count": null,
   "metadata": {},
   "outputs": [],
   "source": [
    "S, K = map(str, input().split())\n",
    "\n",
    "K= int(K)\n",
    "\n",
    "S_set = set()\n",
    "\n",
    "import itertools\n",
    "\n",
    "for p in itertools.permutations(range(len(S))):\n",
    "    S_tmp = \"\"\n",
    "    for i in p:\n",
    "        S_tmp += S[i]\n",
    "\n",
    "    S_set.add(S_tmp)\n",
    "\n",
    "S_list = list(S_set)\n",
    "S_list.sort()\n",
    "\n",
    "print(S_list[K-1])\n",
    "\n"
   ]
  },
  {
   "cell_type": "code",
   "execution_count": null,
   "metadata": {},
   "outputs": [],
   "source": [
    "# PPP\n",
    "# input S, K\n",
    "S, K = map(str, input().split())\n",
    "\n",
    "# K as int\n",
    "K= int(K)\n",
    "\n",
    "# create set type S\n",
    "S_set = set()\n",
    "\n",
    "\n",
    "\n",
    "# import itertools permutation and make strings \n",
    "import itertools\n",
    "for p in itertools.permutations(range(len(S))):\n",
    "    # empty string S_tmp\n",
    "    S_tmp = \"\"\n",
    "\n",
    "    for i in p:\n",
    "        S_tmp += S[i]\n",
    "# add S_tmp to S_set\n",
    "    S_set.add(S_tmp)\n",
    "# set to list\n",
    "S_set = list(S_set)\n",
    "# sort list\n",
    "S_set.sort()\n",
    "# print ans\n",
    "print(S_set[K-1])\n"
   ]
  }
 ],
 "metadata": {
  "kernelspec": {
   "display_name": "Python 3.7.13 ('base')",
   "language": "python",
   "name": "python3"
  },
  "language_info": {
   "name": "python",
   "version": "3.7.13"
  },
  "orig_nbformat": 4,
  "vscode": {
   "interpreter": {
    "hash": "08a8b3365c8794cd169c696eb07d244554fc02b68625288d9805fd473ed8453a"
   }
  }
 },
 "nbformat": 4,
 "nbformat_minor": 2
}
