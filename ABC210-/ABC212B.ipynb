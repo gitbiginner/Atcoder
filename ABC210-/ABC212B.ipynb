{
 "cells": [
  {
   "cell_type": "markdown",
   "metadata": {},
   "source": [
    "https://atcoder.jp/contests/abc212/tasks/abc212_b"
   ]
  },
  {
   "cell_type": "code",
   "execution_count": null,
   "metadata": {},
   "outputs": [],
   "source": [
    "num = []\n",
    "for i in 4:\n",
    "    X = int(input())\n",
    "    num.append(X)\n",
    "    if (i>0) & (num[i-1]+1==num[i]):\n",
    "        "
   ]
  },
  {
   "cell_type": "code",
   "execution_count": null,
   "metadata": {},
   "outputs": [],
   "source": [
    "X = list(map(int,input().split()))\n",
    "\n",
    "if (X[0]+1 !=X[1]) or (X[0]==9 & X[1]==0):\n",
    "    print('Strong')\n",
    "elif (X[1]+1 != X[2])or (X[1]==9 & X[2]==0):\n",
    "    print('Strong')\n",
    "elif (X[2]+1 != X[3])or (X[2]==9 & X[3]==0):\n",
    "    print('Strong')\n",
    "elif (X[0]==X[1]) & (X[1]==X[2])& (X[2]==X[3]):\n",
    "    print('Weak')\n",
    "    exit()\n",
    "else:\n",
    "    print('Weak')"
   ]
  },
  {
   "cell_type": "code",
   "execution_count": 1,
   "metadata": {},
   "outputs": [],
   "source": [
    "S= input()\n",
    "\n",
    "X1 = S[0]\n",
    "X2 = S[1]\n",
    "X3 = S[2]\n",
    "X4 = S[3]\n",
    "\n",
    "if X1==X2 and X2==X3 and X3==X4:\n",
    "    print('Weak')\n",
    "    exit()\n",
    "\n",
    "if (int(X1)+1)%10 == int(X2) and(int(X2)+1)%10 == int(X3) and(int(X3)+1)%10 == int(X4):\n",
    "    print('Weak')\n",
    "    exit()\n",
    "else:\n",
    "    print('Strong')\n",
    "    exit()\n",
    "\n"
   ]
  }
 ],
 "metadata": {
  "kernelspec": {
   "display_name": "Python 3.7.13 ('base')",
   "language": "python",
   "name": "python3"
  },
  "language_info": {
   "codemirror_mode": {
    "name": "ipython",
    "version": 3
   },
   "file_extension": ".py",
   "mimetype": "text/x-python",
   "name": "python",
   "nbconvert_exporter": "python",
   "pygments_lexer": "ipython3",
   "version": "3.7.13"
  },
  "orig_nbformat": 4,
  "vscode": {
   "interpreter": {
    "hash": "08a8b3365c8794cd169c696eb07d244554fc02b68625288d9805fd473ed8453a"
   }
  }
 },
 "nbformat": 4,
 "nbformat_minor": 2
}
