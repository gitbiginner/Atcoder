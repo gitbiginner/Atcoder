{
 "cells": [
  {
   "cell_type": "markdown",
   "metadata": {},
   "source": [
    "https://atcoder.jp/contests/abc214/tasks/abc214_c"
   ]
  },
  {
   "cell_type": "code",
   "execution_count": null,
   "metadata": {},
   "outputs": [],
   "source": [
    "# input\n",
    "N = int(input())\n",
    "S  = list(map(int, input().split()))\n",
    "T  = list(map(int, input().split()))\n",
    "\n",
    "# time for the first time i' Sunuke get a Jewel\n",
    "time = [10**15]*N\n",
    "\n",
    "# 1 st circle\n",
    "for i in range(N):\n",
    "# which fast sunuke get from other sunuke , or takahashi\n",
    "    next  = (i+1)%N\n",
    "    time[next] = min(T[next], time[i]+S[i])\n",
    "\n",
    "# 2 nd circle\n",
    "for i in range(N):\n",
    "    next = (i+1)%N\n",
    "    time[next] = min(T[next], time[i]+S[i])\n",
    "\n",
    "# print ans\n",
    "for i in range(N):\n",
    "    print(time[i])"
   ]
  }
 ],
 "metadata": {
  "language_info": {
   "name": "python"
  },
  "orig_nbformat": 4
 },
 "nbformat": 4,
 "nbformat_minor": 2
}
