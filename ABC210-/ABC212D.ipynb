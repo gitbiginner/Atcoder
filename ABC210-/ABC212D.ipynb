{
 "cells": [
  {
   "cell_type": "markdown",
   "metadata": {},
   "source": [
    "https://atcoder.jp/contests/abc212/tasks/abc212_d"
   ]
  },
  {
   "cell_type": "code",
   "execution_count": 2,
   "metadata": {},
   "outputs": [
    {
     "name": "stdout",
     "output_type": "stream",
     "text": [
      "<class 'list'>\n",
      "<class 'list'>\n"
     ]
    }
   ],
   "source": [
    "import heapq\n",
    "a = [1, 6, 8, 0, -1]\n",
    "print(type(a))  # <class 'list'>\n",
    "\n",
    "heapq.heapify(a)\n",
    "print(type(a))"
   ]
  },
  {
   "cell_type": "code",
   "execution_count": 3,
   "metadata": {},
   "outputs": [
    {
     "name": "stdout",
     "output_type": "stream",
     "text": [
      "[-1, 0, 8, 1, 6]\n",
      "-1\n",
      "[0, 1, 8, 6]\n",
      "[-2, 0, 8, 6, 1]\n"
     ]
    }
   ],
   "source": [
    "a = [1,6,8,0,-1]\n",
    "heapq.heapify(a)\n",
    "print(a)\n",
    "\n",
    "print(heapq.heappop(a))\n",
    "\n",
    "print(a)\n",
    "\n",
    "heapq.heappush(a,-2)\n",
    "print(a)"
   ]
  },
  {
   "cell_type": "code",
   "execution_count": 1,
   "metadata": {},
   "outputs": [
    {
     "ename": "ValueError",
     "evalue": "invalid literal for int() with base 10: ''",
     "output_type": "error",
     "traceback": [
      "\u001b[1;31m---------------------------------------------------------------------------\u001b[0m",
      "\u001b[1;31mValueError\u001b[0m                                Traceback (most recent call last)",
      "\u001b[1;32m~\\AppData\\Local\\Temp\\ipykernel_10076\\4285703085.py\u001b[0m in \u001b[0;36m<module>\u001b[1;34m\u001b[0m\n\u001b[1;32m----> 1\u001b[1;33m \u001b[0mQ\u001b[0m \u001b[1;33m=\u001b[0m \u001b[0mint\u001b[0m\u001b[1;33m(\u001b[0m\u001b[0minput\u001b[0m\u001b[1;33m(\u001b[0m\u001b[1;33m)\u001b[0m\u001b[1;33m)\u001b[0m\u001b[1;33m\u001b[0m\u001b[1;33m\u001b[0m\u001b[0m\n\u001b[0m\u001b[0;32m      2\u001b[0m \u001b[1;33m\u001b[0m\u001b[0m\n\u001b[0;32m      3\u001b[0m \u001b[1;32mimport\u001b[0m \u001b[0mheapq\u001b[0m\u001b[1;33m\u001b[0m\u001b[1;33m\u001b[0m\u001b[0m\n\u001b[0;32m      4\u001b[0m \u001b[0mque\u001b[0m \u001b[1;33m=\u001b[0m \u001b[0mlist\u001b[0m\u001b[1;33m(\u001b[0m\u001b[1;33m)\u001b[0m\u001b[1;33m\u001b[0m\u001b[1;33m\u001b[0m\u001b[0m\n",
      "\u001b[1;31mValueError\u001b[0m: invalid literal for int() with base 10: ''"
     ]
    }
   ],
   "source": [
    "Q = int(input())\n",
    "\n",
    "import heapq\n",
    "que = list()\n",
    "plus = [0]*(Q+1)\n",
    "\n",
    "cum_plus = [0]*(Q+1)\n",
    "\n",
    "for i in range(1, Q+1):\n",
    "    query = list(map(int, input().split()))\n",
    "\n",
    "    if query[0]==1:\n",
    "        X = query[1]\n",
    "        minus = cum_plus[i-1]\n",
    "        heapq.heappush(que, [X-minus, i, minus])\n",
    "        plus[i] = 0\n",
    "        cum_plus[i] = cum_plus[i-1]+plus[i]\n",
    "    \n",
    "    elif query[0]==2:\n",
    "        X = query[1]\n",
    "        plus[i] = X\n",
    "        cum_plus[i] = cum_plus[i-1]+plus[i]\n",
    "    else:\n",
    "        num, k, minus = heapq.heappop(que)\n",
    "        ad = cum_plus[i-1]-cum_plus[k-1]\n",
    "        print(num+minus+ad)\n",
    "        plus[i] = 0\n",
    "        cum_plus[i] = cum_plus[i-1]+plus[i]\n",
    "\n",
    "\n"
   ]
  },
  {
   "cell_type": "code",
   "execution_count": null,
   "metadata": {},
   "outputs": [],
   "source": []
  }
 ],
 "metadata": {
  "kernelspec": {
   "display_name": "Python 3.7.13 ('base')",
   "language": "python",
   "name": "python3"
  },
  "language_info": {
   "codemirror_mode": {
    "name": "ipython",
    "version": 3
   },
   "file_extension": ".py",
   "mimetype": "text/x-python",
   "name": "python",
   "nbconvert_exporter": "python",
   "pygments_lexer": "ipython3",
   "version": "3.7.13"
  },
  "orig_nbformat": 4,
  "vscode": {
   "interpreter": {
    "hash": "08a8b3365c8794cd169c696eb07d244554fc02b68625288d9805fd473ed8453a"
   }
  }
 },
 "nbformat": 4,
 "nbformat_minor": 2
}
