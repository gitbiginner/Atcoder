{
 "cells": [
  {
   "cell_type": "markdown",
   "metadata": {},
   "source": [
    "https://atcoder.jp/contests/abc213/tasks/abc213_b"
   ]
  },
  {
   "cell_type": "code",
   "execution_count": 49,
   "metadata": {},
   "outputs": [
    {
     "name": "stdout",
     "output_type": "stream",
     "text": [
      "[(2, 0), (4, 2), (5, 1), (6, 4), (7, 3)]\n",
      "4\n",
      "5\n"
     ]
    }
   ],
   "source": [
    "B = [2,5,4,7,6]\n",
    "\n",
    "num = list(range(N))\n",
    "db = {}\n",
    "for b in num:\n",
    "    db[B[b]] = b\n",
    "\n",
    "sorted_db = sorted(db.items())\n",
    "print(sorted_db)\n",
    "print(sorted_db[len(B)-2][1])\n",
    "ans = sorted_db[len(B)-2][1]+1\n",
    "print(ans)"
   ]
  },
  {
   "cell_type": "code",
   "execution_count": null,
   "metadata": {},
   "outputs": [],
   "source": [
    "N= int(input())\n",
    "A = list(map(int, input().split()))\n",
    "\n",
    "score = []\n",
    "for n in range(N):\n",
    "    score.append((A[n], n+1))\n",
    "\n",
    "score.sort(reverse=True)\n",
    "#score_sorted = sorted(score, reverse=True)\n",
    "ans = score[1][1]\n",
    "print(ans)\n"
   ]
  }
 ],
 "metadata": {
  "kernelspec": {
   "display_name": "Python 3.7.13 ('base')",
   "language": "python",
   "name": "python3"
  },
  "language_info": {
   "codemirror_mode": {
    "name": "ipython",
    "version": 3
   },
   "file_extension": ".py",
   "mimetype": "text/x-python",
   "name": "python",
   "nbconvert_exporter": "python",
   "pygments_lexer": "ipython3",
   "version": "3.7.13"
  },
  "orig_nbformat": 4,
  "vscode": {
   "interpreter": {
    "hash": "08a8b3365c8794cd169c696eb07d244554fc02b68625288d9805fd473ed8453a"
   }
  }
 },
 "nbformat": 4,
 "nbformat_minor": 2
}
