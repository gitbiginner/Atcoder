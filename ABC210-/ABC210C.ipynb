{
 "cells": [
  {
   "cell_type": "markdown",
   "metadata": {},
   "source": [
    "https://atcoder.jp/contests/abc210/tasks/abc210_c"
   ]
  },
  {
   "cell_type": "code",
   "execution_count": 2,
   "metadata": {},
   "outputs": [
    {
     "data": {
      "text/plain": [
       "defaultdict(int, {})"
      ]
     },
     "execution_count": 2,
     "metadata": {},
     "output_type": "execute_result"
    }
   ],
   "source": [
    "from collections import defaultdict\n",
    "colors  = defaultdict(int)\n",
    "colors"
   ]
  },
  {
   "cell_type": "code",
   "execution_count": 7,
   "metadata": {},
   "outputs": [
    {
     "data": {
      "text/plain": [
       "5"
      ]
     },
     "execution_count": 7,
     "metadata": {},
     "output_type": "execute_result"
    }
   ],
   "source": [
    "C = [1,2,3,4,5,3,4,2]\n",
    "set(C) #{1, 2, 3, 4, 5}\n",
    "len(set(C))# 5"
   ]
  },
  {
   "cell_type": "code",
   "execution_count": 9,
   "metadata": {},
   "outputs": [
    {
     "data": {
      "text/plain": [
       "[1, 2, 3, 4, 5, 3, 4, 2, 5]"
      ]
     },
     "execution_count": 9,
     "metadata": {},
     "output_type": "execute_result"
    }
   ],
   "source": [
    "C.append(5)\n",
    "C"
   ]
  },
  {
   "cell_type": "code",
   "execution_count": 14,
   "metadata": {},
   "outputs": [
    {
     "name": "stdout",
     "output_type": "stream",
     "text": [
      "None\n"
     ]
    }
   ],
   "source": [
    "s = set(C).add(5)\n"
   ]
  },
  {
   "cell_type": "code",
   "execution_count": null,
   "metadata": {},
   "outputs": [],
   "source": [
    "N, K = map(int,input().split())\n",
    "\n",
    "C = list(map(int, input().split()))\n",
    "\n",
    "from collections import deque\n",
    "\n",
    "q=deque()\n",
    "s=set()\n",
    "ans=0\n",
    "dic=dict()\n",
    "\n",
    "for i in range (N):\n",
    "    if len(q)<K:\n",
    "        q.append(C[i])\n",
    "        s.add(C[i])\n",
    "        if C[i] in dic:\n",
    "            dic[C[i]]=dic[C[i]]+1\n",
    "        else:\n",
    "            dic[C[i]]=1\n",
    "    else:\n",
    "        p=q.popleft()\n",
    "        dic[p]=dic[p]-1\n",
    "        if dic[p]==0:\n",
    "            s.discard(p)\n",
    "        if C[i] in dic:\n",
    "            dic[C[i]]=dic[C[i]]+1\n",
    "        else:\n",
    "            dic[C[i]]=1\n",
    "        q.append(C[i])\n",
    "        s.add(C[i])\n",
    "\n",
    "    ans=max(ans,len(s))\n",
    "\n",
    "print(ans)\n"
   ]
  }
 ],
 "metadata": {
  "kernelspec": {
   "display_name": "Python 3.7.13 ('base')",
   "language": "python",
   "name": "python3"
  },
  "language_info": {
   "codemirror_mode": {
    "name": "ipython",
    "version": 3
   },
   "file_extension": ".py",
   "mimetype": "text/x-python",
   "name": "python",
   "nbconvert_exporter": "python",
   "pygments_lexer": "ipython3",
   "version": "3.7.13"
  },
  "orig_nbformat": 4,
  "vscode": {
   "interpreter": {
    "hash": "08a8b3365c8794cd169c696eb07d244554fc02b68625288d9805fd473ed8453a"
   }
  }
 },
 "nbformat": 4,
 "nbformat_minor": 2
}
