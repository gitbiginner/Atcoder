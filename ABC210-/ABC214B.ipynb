{
 "cells": [
  {
   "cell_type": "markdown",
   "metadata": {},
   "source": [
    "https://atcoder.jp/contests/abc214/tasks/abc214_b"
   ]
  },
  {
   "cell_type": "markdown",
   "metadata": {},
   "source": [
    "問題文\n",
    "a+b+c≤S かつ a×b×c≤T を満たす非負整数の組 (a,b,c) はいくつありますか？\n",
    "\n",
    "制約\n",
    "0≤S≤100\n",
    "0≤T≤10000\n",
    "S,T は整数である。\n",
    "入力\n",
    "入力は以下の形式で標準入力から与えられる。\n",
    "\n",
    "S T\n",
    "出力\n",
    "条件を満たす非負整数の組 (a,b,c) の個数を出力せよ。\n",
    "\n",
    "入力例 1 \n",
    "Copy\n",
    "1 0\n",
    "出力例 1 \n",
    "Copy\n",
    "4\n",
    "条件を満たす非負整数の組 (a,b,c) は (0,0,0),(0,0,1),(0,1,0),(1,0,0) の 4 つです。"
   ]
  },
  {
   "cell_type": "code",
   "execution_count": null,
   "metadata": {},
   "outputs": [],
   "source": [
    "# S, T input\n",
    "S, T = map(int,input().split())\n",
    "\n",
    "ans = 0\n",
    "# for 3 loops a, b, c\n",
    "for a in range(S+1):\n",
    "    for b in range(S+1):\n",
    "        for c in range(S+1):\n",
    "            if (a+b+c<=S) & (a*b*c<=T):\n",
    "                ans+=1\n",
    "            else:\n",
    "                pass\n",
    "#print(ans)\n",
    "print(ans)\n",
    "\n"
   ]
  },
  {
   "cell_type": "code",
   "execution_count": null,
   "metadata": {},
   "outputs": [],
   "source": [
    "# S, T input\n",
    "S, T = map(int,input().split())\n",
    "\n",
    "ans = 0\n",
    "# for 3 loops a, b, c\n",
    "for a in range(S+1):\n",
    "    for b in range(S+1):\n",
    "        # if (a+b+c<=S) & (a*b*c<=T)\n",
    "        if (S-a-b >= 0) & (T//(a*b) >= 0):\n",
    "            ans+=1\n",
    "        else:\n",
    "            pass\n",
    "\n",
    "\n",
    "# print(ans)\n",
    "print(ans)"
   ]
  }
 ],
 "metadata": {
  "language_info": {
   "name": "python"
  },
  "orig_nbformat": 4
 },
 "nbformat": 4,
 "nbformat_minor": 2
}
