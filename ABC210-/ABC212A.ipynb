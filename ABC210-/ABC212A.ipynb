{
 "cells": [
  {
   "cell_type": "markdown",
   "metadata": {},
   "source": [
    "https://atcoder.jp/contests/abc212/tasks/abc212_a"
   ]
  },
  {
   "cell_type": "code",
   "execution_count": null,
   "metadata": {},
   "outputs": [],
   "source": [
    "A, B = map(int, input().split())\n",
    "\n",
    "if (0<A) & (B==0):\n",
    "    print('Gold')\n",
    "elif (A==0) & (B>0):\n",
    "    print('Silver')\n",
    "else:\n",
    "    print('Alloy')\n"
   ]
  }
 ],
 "metadata": {
  "language_info": {
   "name": "python"
  },
  "orig_nbformat": 4
 },
 "nbformat": 4,
 "nbformat_minor": 2
}
