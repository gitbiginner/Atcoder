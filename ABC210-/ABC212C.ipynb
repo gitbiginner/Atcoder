{
 "cells": [
  {
   "cell_type": "markdown",
   "metadata": {},
   "source": [
    "https://atcoder.jp/contests/abc212/tasks/abc212_c"
   ]
  },
  {
   "cell_type": "code",
   "execution_count": null,
   "metadata": {},
   "outputs": [],
   "source": [
    "N, M  = map(int, input().split())\n",
    "\n",
    "AL = list(map(int, input().split()))\n",
    "B = list(map(int, input().split()))\n",
    "\n",
    "A = sorted(AL)\n",
    "\n",
    "# x is B data\n",
    "def Nibutan(x):\n",
    "    if x<A[0]:\n",
    "        return abs(A[0]-x)\n",
    "    if A[N-1]<x:\n",
    "        return abs(A[N-1]-x)\n",
    "    left=0\n",
    "    right=N-1\n",
    "\n",
    "    while left<right-1:\n",
    "        center = (left+right)//2\n",
    "        if A[center]<x:\n",
    "            left = center\n",
    "\n",
    "        elif x<A[center]:\n",
    "            right = center\n",
    "        \n",
    "        else: return 0\n",
    "        \n",
    "    return min(abs(A[left]-x), abs(A[right]-x))\n",
    "\n",
    "ans = 10**15\n",
    "\n",
    "for x in B:\n",
    "    ans = min(ans, Nibutan(x))\n",
    "\n",
    "print(ans)\n",
    "\n"
   ]
  }
 ],
 "metadata": {
  "kernelspec": {
   "display_name": "Python 3.7.13 ('base')",
   "language": "python",
   "name": "python3"
  },
  "language_info": {
   "name": "python",
   "version": "3.7.13"
  },
  "orig_nbformat": 4,
  "vscode": {
   "interpreter": {
    "hash": "08a8b3365c8794cd169c696eb07d244554fc02b68625288d9805fd473ed8453a"
   }
  }
 },
 "nbformat": 4,
 "nbformat_minor": 2
}
