{
 "cells": [
  {
   "cell_type": "markdown",
   "metadata": {},
   "source": [
    "https://atcoder.jp/contests/abc213/tasks/abc213_c"
   ]
  },
  {
   "cell_type": "code",
   "execution_count": 2,
   "metadata": {},
   "outputs": [
    {
     "name": "stdout",
     "output_type": "stream",
     "text": [
      "10\n",
      "orange\n",
      "[3, 4, 5]\n"
     ]
    }
   ],
   "source": [
    "AsArray = dict()\n",
    "AsArray[1] = 10\n",
    "\n",
    "AsArray[\"apple\"] = \"orange\"\n",
    "AsArray[(1, 2)] = [3, 4, 5]\n",
    "\n",
    "\n",
    "print(AsArray[1])\n",
    "print(AsArray[\"apple\"])\n",
    "print(AsArray[(1, 2)])"
   ]
  },
  {
   "cell_type": "code",
   "execution_count": 11,
   "metadata": {},
   "outputs": [],
   "source": [
    "cards = [[\"A\", \"B\"]for i in range(31)]\n",
    "\n",
    "for gyou, retu in cards:\n",
    "\n",
    "    for i in range(31):\n",
    "        gyou = cards[i][0]\n",
    "        retu = cards[i][1]\n"
   ]
  },
  {
   "cell_type": "code",
   "execution_count": 12,
   "metadata": {},
   "outputs": [
    {
     "data": {
      "text/plain": [
       "[['A', 'B'],\n",
       " ['A', 'B'],\n",
       " ['A', 'B'],\n",
       " ['A', 'B'],\n",
       " ['A', 'B'],\n",
       " ['A', 'B'],\n",
       " ['A', 'B'],\n",
       " ['A', 'B'],\n",
       " ['A', 'B'],\n",
       " ['A', 'B'],\n",
       " ['A', 'B'],\n",
       " ['A', 'B'],\n",
       " ['A', 'B'],\n",
       " ['A', 'B'],\n",
       " ['A', 'B'],\n",
       " ['A', 'B'],\n",
       " ['A', 'B'],\n",
       " ['A', 'B'],\n",
       " ['A', 'B'],\n",
       " ['A', 'B'],\n",
       " ['A', 'B'],\n",
       " ['A', 'B'],\n",
       " ['A', 'B'],\n",
       " ['A', 'B'],\n",
       " ['A', 'B'],\n",
       " ['A', 'B'],\n",
       " ['A', 'B'],\n",
       " ['A', 'B'],\n",
       " ['A', 'B'],\n",
       " ['A', 'B'],\n",
       " ['A', 'B']]"
      ]
     },
     "execution_count": 12,
     "metadata": {},
     "output_type": "execute_result"
    }
   ],
   "source": [
    "cards"
   ]
  },
  {
   "cell_type": "code",
   "execution_count": null,
   "metadata": {},
   "outputs": [],
   "source": [
    "H, W, N = map(int, input().split())\n",
    "\n",
    "\n",
    "cards = []\n",
    "gyou = []\n",
    "retu = []\n",
    "\n",
    "for n in range(N):\n",
    "    A, B = map(int, input().split())\n",
    "    cards.append([A, B])\n",
    "    gyou.append(A)\n",
    "    retu.append(B)\n",
    "\n",
    "set_gyou = set(gyou)\n",
    "list_gyou = list(set_gyou)\n",
    "sorted_gyou = sorted(list_gyou)\n",
    "\n",
    "gyou_convert = dict()\n",
    "\n",
    "# gyou is remained row numbers\n",
    "# row rename phase\n",
    "\n",
    "for i in range(len(sorted_gyou)):\n",
    "    gyou_convert[sorted_gyou[i]] = i+1\n",
    "\n",
    "# do same thing for col\n",
    "\n",
    "set_retu = set(retu)\n",
    "list_retu  = list(set_retu)\n",
    "sorted_retu = sorted(list_retu)\n",
    "\n",
    "retu_convert = dict()\n",
    "\n",
    "# gyou is remained row numbers\n",
    "# row rename phase\n",
    "\n",
    "for i in range(len(sorted_retu)):\n",
    "    retu_convert[sorted_retu[i]] = i+1\n",
    "\n",
    "for sorted_gyou, sorted_retu in cards:\n",
    "    ans_gyou = gyou_convert[sorted_gyou]\n",
    "    ans_retu = retu_convert[sorted_retu]\n",
    "    print(ans_gyou, ans_retu)\n",
    "\n"
   ]
  }
 ],
 "metadata": {
  "kernelspec": {
   "display_name": "Python 3.7.13 ('base')",
   "language": "python",
   "name": "python3"
  },
  "language_info": {
   "codemirror_mode": {
    "name": "ipython",
    "version": 3
   },
   "file_extension": ".py",
   "mimetype": "text/x-python",
   "name": "python",
   "nbconvert_exporter": "python",
   "pygments_lexer": "ipython3",
   "version": "3.7.13"
  },
  "orig_nbformat": 4,
  "vscode": {
   "interpreter": {
    "hash": "08a8b3365c8794cd169c696eb07d244554fc02b68625288d9805fd473ed8453a"
   }
  }
 },
 "nbformat": 4,
 "nbformat_minor": 2
}
