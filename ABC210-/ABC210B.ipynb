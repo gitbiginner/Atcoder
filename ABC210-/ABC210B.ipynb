{
 "cells": [
  {
   "cell_type": "markdown",
   "metadata": {},
   "source": [
    "https://atcoder.jp/contests/abc210/tasks/abc210_b"
   ]
  },
  {
   "cell_type": "code",
   "execution_count": null,
   "metadata": {},
   "outputs": [],
   "source": [
    "N = int(input())\n",
    "S = str(input())\n",
    "\n",
    "for i in range(N):\n",
    "    if (S[i] == '1') & (i %2==0):\n",
    "        print('Takahashi')\n",
    "        break;\n",
    "    elif (S[i]== '1') & (i%2==1):\n",
    "        print('Aoki')\n",
    "        break;\n",
    "    else:\n",
    "        pass;\n"
   ]
  }
 ],
 "metadata": {
  "language_info": {
   "name": "python"
  },
  "orig_nbformat": 4
 },
 "nbformat": 4,
 "nbformat_minor": 2
}
