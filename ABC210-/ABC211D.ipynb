{
 "cells": [
  {
   "cell_type": "markdown",
   "metadata": {},
   "source": [
    "https://atcoder.jp/contests/abc211/tasks/abc211_d"
   ]
  },
  {
   "cell_type": "markdown",
   "metadata": {},
   "source": [
    "N: city number\n",
    "M: road number\n",
    "\n",
    "A: city number\n",
    "B: city number\n"
   ]
  },
  {
   "cell_type": "code",
   "execution_count": null,
   "metadata": {},
   "outputs": [],
   "source": [
    "N,M = map(int, input().split())\n",
    "\n",
    "connect = [[] for i in range(N+1)]\n",
    "\n",
    "for i in range(M):\n",
    "    A, B = map(int, input().split())\n",
    "    connect[A].append(B)\n",
    "    connect[B].append(A)\n",
    "\n",
    "mod = 10**9+7\n",
    "inf = 10**15\n",
    "\n",
    "time = [inf]*(N+1)\n",
    "time[1] =0\n",
    "\n",
    "count = [0]*(N+1)\n",
    "count[1] = 1\n",
    "\n",
    "from collections import deque\n",
    "que = deque()\n",
    "\n",
    "que.append(1)\n",
    "\n",
    "while len(que)>0:\n",
    "    now_city = que.popleft()\n",
    "\n",
    "    for to_city in connect[now_city]:\n",
    "        if time[to_city]==inf:\n",
    "            count[to_city] = count[now_city]\n",
    "            time[to_city] = time[now_city]+1\n",
    "            que.append(to_city)\n",
    "        else:\n",
    "            if time[to_city]== time[now_city]+1:\n",
    "                count[to_city] += count[now_city]\n",
    "        count[to_city]%=mod\n",
    "\n",
    "if time[N]==inf:\n",
    "    print(0)\n",
    "else:\n",
    "    print(count[N])\n",
    " \n",
    "\n",
    "\n"
   ]
  }
 ],
 "metadata": {
  "language_info": {
   "name": "python"
  },
  "orig_nbformat": 4
 },
 "nbformat": 4,
 "nbformat_minor": 2
}
