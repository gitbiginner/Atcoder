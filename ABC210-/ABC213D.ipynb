{
 "cells": [
  {
   "cell_type": "markdown",
   "metadata": {},
   "source": [
    "https://atcoder.jp/contests/abc213/tasks/abc213_d"
   ]
  },
  {
   "cell_type": "code",
   "execution_count": 2,
   "metadata": {},
   "outputs": [
    {
     "name": "stdout",
     "output_type": "stream",
     "text": [
      "[1, 2, 3, 4, 5, 6, 5]\n",
      "1 2 3 4 5 6 5\n"
     ]
    }
   ],
   "source": [
    "A = [1,2,3,4,5,6,5]\n",
    "print(A)\n",
    "print(*A)"
   ]
  },
  {
   "cell_type": "code",
   "execution_count": null,
   "metadata": {},
   "outputs": [],
   "source": [
    "import sys \n",
    "sys.setrecursionlimit(10**6)\n",
    "\n",
    "N=int(input())\n",
    "\n",
    "# connect 0-N\n",
    "connect = [[] for i in range(N+1)]\n",
    "\n",
    "# connect 0-(N-2)\n",
    "for i in range(N-1):\n",
    "    A, B = map(int, input().split())\n",
    "    connect[A].append(B)\n",
    "    connect[B].append(A)\n",
    "\n",
    "# connect 0-N\n",
    "for i in range(N+1):\n",
    "    connect[i].sort()\n",
    "\n",
    "ans = []\n",
    "\n",
    "def DFS(now, pre):\n",
    "    ans.append(now)\n",
    "\n",
    "    for to in connect[now]:\n",
    "        if to != pre:\n",
    "            DFS(to, now)\n",
    "            ans.append(now)\n",
    "\n",
    "DFS(1, -1)\n",
    "print(*ans) # list not [ ]"
   ]
  }
 ],
 "metadata": {
  "kernelspec": {
   "display_name": "Python 3.7.13 ('base')",
   "language": "python",
   "name": "python3"
  },
  "language_info": {
   "codemirror_mode": {
    "name": "ipython",
    "version": 3
   },
   "file_extension": ".py",
   "mimetype": "text/x-python",
   "name": "python",
   "nbconvert_exporter": "python",
   "pygments_lexer": "ipython3",
   "version": "3.7.13"
  },
  "orig_nbformat": 4,
  "vscode": {
   "interpreter": {
    "hash": "08a8b3365c8794cd169c696eb07d244554fc02b68625288d9805fd473ed8453a"
   }
  }
 },
 "nbformat": 4,
 "nbformat_minor": 2
}
