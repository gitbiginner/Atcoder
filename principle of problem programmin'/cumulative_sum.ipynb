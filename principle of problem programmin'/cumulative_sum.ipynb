{
 "cells": [
  {
   "cell_type": "markdown",
   "metadata": {},
   "source": [
    "https://atcoder.jp/contests/tessoku-book/tasks/math_and_algorithm_ai\n",
    "#A06"
   ]
  },
  {
   "cell_type": "code",
   "execution_count": null,
   "metadata": {},
   "outputs": [],
   "source": [
    "\n",
    "N, Q = map(int, input().split())\n",
    "\n",
    "A = list(map(int, input().split()))\n",
    "\n",
    "L = [None]*Q\n",
    "R = [None]*Q\n",
    "\n",
    "for q in range(Q):\n",
    "    L[q], R[q] = map(int, input().split())\n",
    "\n",
    "# cumulative sum : S\n",
    "S = [None]*(N+1)\n",
    "S[0] = 0\n",
    "\n",
    "for i in range(N):\n",
    "    S[i+1] = S[i] + A[i]\n",
    "\n",
    "for j in range(Q):\n",
    "    ans = S[R[j]] - S[L[j]-1]\n",
    "    print(ans)\n"
   ]
  },
  {
   "cell_type": "markdown",
   "metadata": {},
   "source": [
    "# A07\n",
    "https://atcoder.jp/contests/tessoku-book/tasks/tessoku_book_g"
   ]
  },
  {
   "cell_type": "code",
   "execution_count": null,
   "metadata": {},
   "outputs": [],
   "source": [
    "# 入力\n",
    "D = int(input())\n",
    "N = int(input())\n",
    "L = [ None ] * N\n",
    "R = [ None ] * N\n",
    "for i in range(N):\n",
    "\tL[i], R[i] = map(int, input().split())\n",
    "\n",
    "# 前日比に加算\n",
    "B = [ 0 ] * (D+2)\n",
    "for i in range(N):\n",
    "\tB[L[i]] += 1\n",
    "\tB[R[i]+1] -= 1\n",
    "\n",
    "# 累積和をとる\n",
    "Answer = [ None ] * (D+2)\n",
    "Answer[0] = 0\n",
    "for d in range(1, D+1):\n",
    "\tAnswer[d] = Answer[d - 1] + B[d]\n",
    "\n",
    "# 出力\n",
    "for d in range(1, D+1):\n",
    "\tprint(Answer[d])"
   ]
  },
  {
   "cell_type": "code",
   "execution_count": null,
   "metadata": {},
   "outputs": [],
   "source": [
    "# D days N num of people\n",
    "D= int(input())\n",
    "N= int(input())\n",
    "\n",
    "# each days ratio by previous one day\n",
    "\n",
    "\n",
    "L  = [None]*N\n",
    "R  = [None]*N\n",
    "for i in range(N):\n",
    "    L[i], R[i]  = map(int, input().split())\n",
    "\n",
    "B = [None]*(D+2)\n",
    "for i in range(N):\n",
    "    B[L[i]]+=1\n",
    "    B[R[i]+1]-=1\n",
    "    \n",
    "# culculate cumulative sum\n",
    "S = [None]*(D+2)\n",
    "S[0] = 0\n",
    "\n",
    "for i in range(1,D+1):\n",
    "    S[i] = S[i-1]+B[i]\n",
    "\n",
    "\n",
    "# for L, R in D\n",
    "# print(ans)\n",
    "for p in range(1,D+1):\n",
    "    print(S[p])\n"
   ]
  },
  {
   "cell_type": "code",
   "execution_count": null,
   "metadata": {},
   "outputs": [],
   "source": []
  },
  {
   "cell_type": "code",
   "execution_count": 2,
   "metadata": {},
   "outputs": [
    {
     "name": "stdout",
     "output_type": "stream",
     "text": [
      "[[0, 0, 0, 0], [0, 0, 0, 0], [0, 0, 0, 0], [0, 0, 0, 0], [0, 0, 0, 0]]\n"
     ]
    }
   ],
   "source": [
    "Z = [[0]*(3+1) for i in range(5)]\n",
    "print(Z)"
   ]
  },
  {
   "cell_type": "code",
   "execution_count": 1,
   "metadata": {},
   "outputs": [
    {
     "ename": "ValueError",
     "evalue": "not enough values to unpack (expected 2, got 0)",
     "output_type": "error",
     "traceback": [
      "\u001b[1;31m---------------------------------------------------------------------------\u001b[0m",
      "\u001b[1;31mValueError\u001b[0m                                Traceback (most recent call last)",
      "\u001b[1;32m~\\AppData\\Local\\Temp\\ipykernel_5208\\2873495693.py\u001b[0m in \u001b[0;36m<module>\u001b[1;34m\u001b[0m\n\u001b[1;32m----> 1\u001b[1;33m \u001b[0mH\u001b[0m\u001b[1;33m,\u001b[0m \u001b[0mW\u001b[0m \u001b[1;33m=\u001b[0m \u001b[0mmap\u001b[0m\u001b[1;33m(\u001b[0m\u001b[0mint\u001b[0m\u001b[1;33m,\u001b[0m \u001b[0minput\u001b[0m\u001b[1;33m(\u001b[0m\u001b[1;33m)\u001b[0m\u001b[1;33m.\u001b[0m\u001b[0msplit\u001b[0m\u001b[1;33m(\u001b[0m\u001b[1;33m)\u001b[0m\u001b[1;33m)\u001b[0m\u001b[1;33m\u001b[0m\u001b[1;33m\u001b[0m\u001b[0m\n\u001b[0m\u001b[0;32m      2\u001b[0m \u001b[0mX\u001b[0m \u001b[1;33m=\u001b[0m \u001b[1;33m[\u001b[0m\u001b[1;32mNone\u001b[0m\u001b[1;33m]\u001b[0m\u001b[1;33m*\u001b[0m\u001b[0mH\u001b[0m\u001b[1;33m\u001b[0m\u001b[1;33m\u001b[0m\u001b[0m\n\u001b[0;32m      3\u001b[0m \u001b[1;33m\u001b[0m\u001b[0m\n\u001b[0;32m      4\u001b[0m \u001b[0mQ\u001b[0m\u001b[1;33m=\u001b[0m \u001b[0mint\u001b[0m\u001b[1;33m(\u001b[0m\u001b[0minput\u001b[0m\u001b[1;33m(\u001b[0m\u001b[1;33m)\u001b[0m\u001b[1;33m)\u001b[0m\u001b[1;33m\u001b[0m\u001b[1;33m\u001b[0m\u001b[0m\n\u001b[0;32m      5\u001b[0m \u001b[1;33m\u001b[0m\u001b[0m\n",
      "\u001b[1;31mValueError\u001b[0m: not enough values to unpack (expected 2, got 0)"
     ]
    }
   ],
   "source": [
    "H, W = map(int, input().split())\n",
    "X = [None]*H \n",
    "\n",
    "# cumulative sum table Z\n",
    "Z = [[0] *(W+1) for i in range(H+1)]\n",
    "\n",
    "for i in range(H):\n",
    "    X[i] = list(map(int, input().split()))\n",
    "\n",
    "Q= int(input())\n",
    "\n",
    "A = [None]*Q\n",
    "B = [None]*Q\n",
    "C = [None]*Q\n",
    "D = [None]*Q\n",
    "\n",
    "for q in range(Q):\n",
    "    A[q], B[q], C[q], D[q] = map(int,input().split())\n",
    "\n",
    "# make cumulative sum in rows\n",
    "for i in range(1, H+1):\n",
    "    for j in range(1, W+1):\n",
    "        Z[i][j] = Z[i][j-1]+X[i-1][j-1]\n",
    "\n",
    "# make cumulative sum in cols\n",
    "for j in range(1, W+1):\n",
    "    for i in range(1, H+1):\n",
    "        Z[i][j] = Z[i][j]+Z[i-1][j]\n",
    "\n",
    "for i in range(Q):\n",
    "    CD = Z[C[i]][D[i]]\n",
    "    CB = Z[C[i]][B[i]-1]\n",
    "    AD = Z[A[i]-1][D[i]]\n",
    "    AB = Z[A[i]-1][B[i]-1]\n",
    "    print(CD-CB-AD+AB)"
   ]
  },
  {
   "cell_type": "code",
   "execution_count": 4,
   "metadata": {},
   "outputs": [
    {
     "data": {
      "text/plain": [
       "[[0, 0, 0, 0, 0, 0, 0],\n",
       " [0, 0, 0, 0, 0, 0, 0],\n",
       " [0, 0, 0, 0, 0, 0, 0],\n",
       " [0, 0, 0, 0, 0, 0, 0],\n",
       " [0, 0, 0, 0, 0, 0, 0],\n",
       " [0, 0, 0, 0, 0, 0, 0]]"
      ]
     },
     "execution_count": 4,
     "metadata": {},
     "output_type": "execute_result"
    }
   ],
   "source": [
    "X = [[0]*(5+2) for i in range(4+2)]\n",
    "X"
   ]
  },
  {
   "cell_type": "code",
   "execution_count": null,
   "metadata": {},
   "outputs": [],
   "source": [
    "# input\n",
    "H, W, N = map(int, input().split())\n",
    "\n",
    "A = [None]*N\n",
    "B = [None]*N\n",
    "C = [None]*N \n",
    "D = [None]*N\n",
    "#X = [None]*W \n",
    "#X Z table\n",
    "X = [[0]*(W+2) for i in range(H+2)]\n",
    "Z = [[0]*(W+2) for i in range(H+2)]\n",
    "\n",
    "for n in range(N):\n",
    "    A[n], B[n], C[n], D[n] = map(int, input().split())\n",
    "\n",
    "\n",
    "# X (a,b) (c+1, d+1) +1\n",
    "#   (c+1, b) (a, d+1) -1\n",
    "for t in range(N):\n",
    "    X[A[t]][B[t]] += 1\n",
    "    X[A[t]][D[t]+1] -= 1\n",
    "    X[C[t]+1][D[t]+1] += 1\n",
    "    X[C[t]+1][B[t]] -=1\n",
    "    \n",
    "# cumurative sum \n",
    "for i in range(1, H+1):\n",
    "    for j in range(1, W+1):\n",
    "        Z[i][j] = Z[i][j-1]+X[i][j]\n",
    "\n",
    "for j in range(1, W+1):\n",
    "    for i in range(1, H+1):\n",
    "        Z[i][j] = Z[i][j] + Z[i-1][j]\n",
    "\n",
    "for i in range(1, H+1):\n",
    "    for j in range(1, W+1):\n",
    "        if j >= 2:\n",
    "            print(\" \", end=\"\")\n",
    "        print(Z[i][j], end=\"\")\n",
    "    print(\"\")"
   ]
  },
  {
   "cell_type": "code",
   "execution_count": null,
   "metadata": {},
   "outputs": [],
   "source": [
    "# input\n",
    "H, W, N = map(int, input().split())\n",
    "\n",
    "# cumulative sum table Z\n",
    "\n",
    "A = [None]*N\n",
    "B = [None]*N\n",
    "C = [None]*N\n",
    "D = [None]*N\n",
    "X = [None]*W\n",
    "\n",
    "for i in range(N):\n",
    "    A[i], B[i], C[i], D[i] = map(int, input().split())\n",
    "\n",
    "# rewrite (a, b)(c+1, d+1) +1\n",
    "# rewrite (c+1, b)(a, d+1) -1\n",
    "X = [[0]*(W+2) for i in range(H+2)]\n",
    "\n",
    "Z = [[0]*(W+2) for i in range(H+2)]\n",
    "for n  in range(N):\n",
    "    X[A[n]][B[n]] +=1\n",
    "    X[A[n]][D[n]+1]-=1\n",
    "    X[C[n]+1][B[n]] -=1\n",
    "    X[C[n]+1][D[n]+1] +=1\n",
    "    \n",
    "    \n",
    "  \n",
    "# make cumulative sum in row\n",
    "for i in range(1, H+1):\n",
    "    for j in range(1, W+1):\n",
    "        Z[i][j] = Z[i][j-1]+X[i][j]\n",
    "\n",
    "#make cumulative sum in col\n",
    "for j in range(1, W+1):\n",
    "    for i in range(1, H+1):\n",
    "        Z[i][j] = Z[i][j] + Z[i-1][j]\n",
    "\n",
    "for i in range(1, H+1):\n",
    "    for j in range(1, W+1):\n",
    "        if j >= 2:\n",
    "            print('', end='')\n",
    "        print(Z[i][j], end=\"\")\n",
    "    print('')"
   ]
  },
  {
   "cell_type": "code",
   "execution_count": null,
   "metadata": {},
   "outputs": [],
   "source": [
    "# 入力\n",
    "H, W, N = map(int, input().split())\n",
    "A = [ None ] * N\n",
    "B = [ None ] * N\n",
    "C = [ None ] * N\n",
    "D = [ None ] * N\n",
    "X = [ None ] * (W)\n",
    "for t in range(N):\n",
    "\tA[t], B[t], C[t], D[t] = map(int, input().split())\n",
    "\n",
    "# 各日について加算\n",
    "X = [ [ 0 ] * (W + 2) for i in range(H + 2) ]\n",
    "Z = [ [ 0 ] * (W + 2) for i in range(H + 2) ]\n",
    "for t in range(N):\n",
    "    X[A[t]][B[t]] += 1\n",
    "    X[A[t]][D[t]+1] -= 1\n",
    "    X[C[t]+1][B[t]] -= 1\n",
    "    X[C[t]+1][D[t]+1] += 1\n",
    "\n",
    "# 二次元累積和をとる\n",
    "for i in range(1, H+1):\n",
    "\tfor j in range(1, W+1):\n",
    "\t\tZ[i][j] = Z[i][j-1] + X[i][j]\n",
    "for j in range(1, W+1):\n",
    "\tfor i in range(1, H+1):\n",
    "\t\tZ[i][j] = Z[i-1][j] + Z[i][j]\n",
    "\n",
    "# 出力\n",
    "for i in range(1, H+1):\n",
    "\tfor j in range(1, W+1):\n",
    "\t\tif j >= 2:\n",
    "\t\t\tprint(\" \", end=\"\")\n",
    "\t\tprint(Z[i][j], end=\"\")\n",
    "\tprint(\"\")"
   ]
  },
  {
   "cell_type": "code",
   "execution_count": null,
   "metadata": {},
   "outputs": [],
   "source": [
    "# A10\n",
    "\n",
    "N = int(input())\n",
    "\n",
    "A = list(map(int, input().split()))\n",
    "D = int(input())\n",
    "\n",
    "L = [None]*D\n",
    "R = [None]*D\n",
    "for d  in range(D):\n",
    "    L[d], R[d] = map(int, input().split())\n",
    "\n",
    "P = [None]*(N)\n",
    "Q = [None]*(N)\n",
    "\n",
    "P[0] = A[0]\n",
    "Q[N-1] = A[N-1]\n",
    "\n",
    "for i in range(1, N):\n",
    "    P[i] = max(P[i-1], A[i])\n",
    "\n",
    "for i in reversed(range(0, N-1)):\n",
    "    Q[i] = max(Q[i+1], A[i])\n",
    "\n",
    "# ans\n",
    "for d in range(D):\n",
    "    ans = max(P[(L[d]-1)-1], Q[(R[d]+1)-1])\n",
    "    print(ans)\n",
    "    "
   ]
  },
  {
   "cell_type": "code",
   "execution_count": null,
   "metadata": {},
   "outputs": [],
   "source": []
  }
 ],
 "metadata": {
  "kernelspec": {
   "display_name": "Python 3.7.13 ('base')",
   "language": "python",
   "name": "python3"
  },
  "language_info": {
   "codemirror_mode": {
    "name": "ipython",
    "version": 3
   },
   "file_extension": ".py",
   "mimetype": "text/x-python",
   "name": "python",
   "nbconvert_exporter": "python",
   "pygments_lexer": "ipython3",
   "version": "3.7.13 (default, Mar 28 2022, 08:03:21) [MSC v.1916 64 bit (AMD64)]"
  },
  "orig_nbformat": 4,
  "vscode": {
   "interpreter": {
    "hash": "08a8b3365c8794cd169c696eb07d244554fc02b68625288d9805fd473ed8453a"
   }
  }
 },
 "nbformat": 4,
 "nbformat_minor": 2
}
