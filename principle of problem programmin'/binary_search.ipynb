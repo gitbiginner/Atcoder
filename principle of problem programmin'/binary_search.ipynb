{
 "cells": [
  {
   "cell_type": "code",
   "execution_count": null,
   "metadata": {},
   "outputs": [],
   "source": [
    "#A211\n",
    "N, X = map(int, input().split())\n",
    "A = list(map(int, input().split()))\n",
    "\n",
    "def binary_search(X, A):\n",
    "\n",
    "    L = 0\n",
    "    R = N-1\n",
    "    \n",
    "\n",
    "    while L <= R:\n",
    "        center = (L+R)//2\n",
    "\n",
    "        if X > A[center]:\n",
    "            L = center+1\n",
    "        elif X == A[center]:\n",
    "            return center+1\n",
    "        elif X < A[center]:\n",
    "            R = center-1\n",
    "        else:\n",
    "            return -1\n",
    "\n",
    "answer = binary_search(X, A)\n",
    "print(answer)"
   ]
  },
  {
   "cell_type": "code",
   "execution_count": null,
   "metadata": {},
   "outputs": [],
   "source": [
    "#A12\n",
    "\n",
    "def check(x, N, K, A):\n",
    "    sum = 0\n",
    "    for i in range(N):\n",
    "        sum += x//A[i]\n",
    "\n",
    "    if sum >= K:\n",
    "        return True\n",
    "    return False\n",
    "\n",
    "N, K = map(int, input().split())\n",
    "\n",
    "A = list(map(int, input().split()))\n",
    "\n",
    "Left = 1\n",
    "Right = 10**9\n",
    "\n",
    "while Left < Right:\n",
    "    Mid = (Left+ Right)//2\n",
    "    Answer = check(Mid, N, K, A)\n",
    "\n",
    "    if Answer == False:\n",
    "        Left = Mid+1\n",
    "    if Answer ==True:\n",
    "        Right = Mid\n",
    "\n",
    "print(Left) \n",
    "\n"
   ]
  },
  {
   "cell_type": "code",
   "execution_count": null,
   "metadata": {},
   "outputs": [],
   "source": []
  },
  {
   "cell_type": "code",
   "execution_count": null,
   "metadata": {},
   "outputs": [],
   "source": [
    "N, K = map(int, input().split())\n",
    "A = list(map(int, input().split()))\n",
    "\n",
    "R = [None]*N\n",
    "\n",
    "for i in range(0, N-1):\n",
    "    if i ==0:\n",
    "        R[i] =0\n",
    "    else:\n",
    "        R[i] = R[i-1]\n",
    "\n",
    "\n",
    "    while R[i]< N-1 and A[R[i]+1]-A[i]<=K:\n",
    "        R[i] += 1\n",
    "\n",
    "ans = 0\n",
    "for i in range(0, N-1):\n",
    "    ans = ans+R[i]-i\n",
    "\n",
    "print(ans)\n",
    "\n"
   ]
  },
  {
   "cell_type": "code",
   "execution_count": null,
   "metadata": {},
   "outputs": [],
   "source": [
    "# input\n",
    "N, K = map(int, input().split())\n",
    "A = list(map(int, input().split()))\n",
    "\n",
    "# R \n",
    "R = A.copy()\n",
    "\n",
    "# all search\n",
    "for i in range(N):\n",
    "    \n",
    "\n",
    "\n",
    "\n",
    "    \n",
    "# count"
   ]
  },
  {
   "cell_type": "code",
   "execution_count": 1,
   "metadata": {},
   "outputs": [
    {
     "ename": "ValueError",
     "evalue": "not enough values to unpack (expected 2, got 0)",
     "output_type": "error",
     "traceback": [
      "\u001b[1;31m---------------------------------------------------------------------------\u001b[0m",
      "\u001b[1;31mValueError\u001b[0m                                Traceback (most recent call last)",
      "\u001b[1;32m~\\AppData\\Local\\Temp\\ipykernel_17836\\3433766626.py\u001b[0m in \u001b[0;36m<module>\u001b[1;34m\u001b[0m\n\u001b[1;32m----> 1\u001b[1;33m \u001b[0mN\u001b[0m\u001b[1;33m,\u001b[0m \u001b[0mK\u001b[0m \u001b[1;33m=\u001b[0m \u001b[0mmap\u001b[0m\u001b[1;33m(\u001b[0m\u001b[0mint\u001b[0m\u001b[1;33m,\u001b[0m \u001b[0minput\u001b[0m\u001b[1;33m(\u001b[0m\u001b[1;33m)\u001b[0m\u001b[1;33m)\u001b[0m\u001b[1;33m\u001b[0m\u001b[1;33m\u001b[0m\u001b[0m\n\u001b[0m",
      "\u001b[1;31mValueError\u001b[0m: not enough values to unpack (expected 2, got 0)"
     ]
    }
   ],
   "source": [
    "N, K = map(int, input().split())\n",
    "A = list(map(int, input().split()))\n",
    "\n",
    "R = [None]*N\n",
    "for i in range(N):\n",
    "    if i ==0:\n",
    "        R[i] =0\n",
    "    else:\n",
    "        R[i] = A[R[i]]\n"
   ]
  },
  {
   "cell_type": "code",
   "execution_count": null,
   "metadata": {},
   "outputs": [],
   "source": []
  },
  {
   "cell_type": "code",
   "execution_count": null,
   "metadata": {},
   "outputs": [],
   "source": []
  }
 ],
 "metadata": {
  "kernelspec": {
   "display_name": "Python 3.7.13 ('base')",
   "language": "python",
   "name": "python3"
  },
  "language_info": {
   "codemirror_mode": {
    "name": "ipython",
    "version": 3
   },
   "file_extension": ".py",
   "mimetype": "text/x-python",
   "name": "python",
   "nbconvert_exporter": "python",
   "pygments_lexer": "ipython3",
   "version": "3.7.13"
  },
  "orig_nbformat": 4,
  "vscode": {
   "interpreter": {
    "hash": "08a8b3365c8794cd169c696eb07d244554fc02b68625288d9805fd473ed8453a"
   }
  }
 },
 "nbformat": 4,
 "nbformat_minor": 2
}
