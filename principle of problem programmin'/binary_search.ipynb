{
 "cells": [
  {
   "cell_type": "code",
   "execution_count": null,
   "metadata": {},
   "outputs": [],
   "source": [
    "#A211\n",
    "N, X = map(int, input().split())\n",
    "A = list(map(int, input().split()))\n",
    "\n",
    "def binary_search(X, A):\n",
    "\n",
    "    L = 0\n",
    "    R = N-1\n",
    "    \n",
    "\n",
    "    while L <= R:\n",
    "        center = (L+R)//2\n",
    "\n",
    "        if X > A[center]:\n",
    "            L = center+1\n",
    "        elif X == A[center]:\n",
    "            return center+1\n",
    "        elif X < A[center]:\n",
    "            R = center-1\n",
    "        else:\n",
    "            return -1\n",
    "\n",
    "answer = binary_search(X, A)\n",
    "print(answer)"
   ]
  }
 ],
 "metadata": {
  "kernelspec": {
   "display_name": "Python 3.7.13 ('base')",
   "language": "python",
   "name": "python3"
  },
  "language_info": {
   "name": "python",
   "version": "3.7.13"
  },
  "orig_nbformat": 4,
  "vscode": {
   "interpreter": {
    "hash": "08a8b3365c8794cd169c696eb07d244554fc02b68625288d9805fd473ed8453a"
   }
  }
 },
 "nbformat": 4,
 "nbformat_minor": 2
}
