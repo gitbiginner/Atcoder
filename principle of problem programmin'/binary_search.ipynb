{
 "cells": [
  {
   "cell_type": "code",
   "execution_count": null,
   "metadata": {},
   "outputs": [],
   "source": [
    "#A211\n",
    "N, X = map(int, input().split())\n",
    "A = list(map(int, input().split()))\n",
    "\n",
    "def binary_search(X, A):\n",
    "\n",
    "    L = 0\n",
    "    R = N-1\n",
    "    \n",
    "\n",
    "    while L <= R:\n",
    "        center = (L+R)//2\n",
    "\n",
    "        if X > A[center]:\n",
    "            L = center+1\n",
    "        elif X == A[center]:\n",
    "            return center+1\n",
    "        elif X < A[center]:\n",
    "            R = center-1\n",
    "        else:\n",
    "            return -1\n",
    "\n",
    "answer = binary_search(X, A)\n",
    "print(answer)"
   ]
  },
  {
   "cell_type": "code",
   "execution_count": null,
   "metadata": {},
   "outputs": [],
   "source": [
    "#A12\n",
    "\n",
    "def check(x, N, K, A):\n",
    "    sum = 0\n",
    "    for i in range(N):\n",
    "        sum += x//A[i]\n",
    "\n",
    "    if sum >= K:\n",
    "        return True\n",
    "    return False\n",
    "\n",
    "N, K = map(int, input().split())\n",
    "\n",
    "A = list(map(int, input().split()))\n",
    "\n",
    "Left = 1\n",
    "Right = 10**9\n",
    "\n",
    "while Left < Right:\n",
    "    Mid = (Left+ Right)//2\n",
    "    Answer = check(Mid, N, K, A)\n",
    "\n",
    "    if Answer == False:\n",
    "        Left = Mid+1\n",
    "    if Answer ==True:\n",
    "        Right = Mid\n",
    "\n",
    "print(Left) \n",
    "\n"
   ]
  },
  {
   "cell_type": "code",
   "execution_count": null,
   "metadata": {},
   "outputs": [],
   "source": []
  },
  {
   "cell_type": "code",
   "execution_count": null,
   "metadata": {},
   "outputs": [],
   "source": []
  }
 ],
 "metadata": {
  "kernelspec": {
   "display_name": "Python 3.7.13 ('base')",
   "language": "python",
   "name": "python3"
  },
  "language_info": {
   "name": "python",
   "version": "3.7.13"
  },
  "orig_nbformat": 4,
  "vscode": {
   "interpreter": {
    "hash": "08a8b3365c8794cd169c696eb07d244554fc02b68625288d9805fd473ed8453a"
   }
  }
 },
 "nbformat": 4,
 "nbformat_minor": 2
}
