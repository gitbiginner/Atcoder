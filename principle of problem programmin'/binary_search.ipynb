{
 "cells": [
  {
   "cell_type": "code",
   "execution_count": null,
   "metadata": {},
   "outputs": [],
   "source": [
    "#A211\n",
    "N, X = map(int, input().split())\n",
    "A = list(map(int, input().split()))\n",
    "\n",
    "def binary_search(X, A):\n",
    "\n",
    "    L = 0\n",
    "    R = N-1\n",
    "    \n",
    "\n",
    "    while L <= R:\n",
    "        center = (L+R)//2\n",
    "\n",
    "        if X > A[center]:\n",
    "            L = center+1\n",
    "        elif X == A[center]:\n",
    "            return center+1\n",
    "        elif X < A[center]:\n",
    "            R = center-1\n",
    "        else:\n",
    "            return -1\n",
    "\n",
    "answer = binary_search(X, A)\n",
    "print(answer)"
   ]
  },
  {
   "cell_type": "code",
   "execution_count": null,
   "metadata": {},
   "outputs": [],
   "source": [
    "#A12\n",
    "\n",
    "def check(x, N, K, A):\n",
    "    sum = 0\n",
    "    for i in range(N):\n",
    "        sum += x//A[i]\n",
    "\n",
    "    if sum >= K:\n",
    "        return True\n",
    "    return False\n",
    "\n",
    "N, K = map(int, input().split())\n",
    "\n",
    "A = list(map(int, input().split()))\n",
    "\n",
    "Left = 1\n",
    "Right = 10**9\n",
    "\n",
    "while Left < Right:\n",
    "    Mid = (Left+ Right)//2\n",
    "    Answer = check(Mid, N, K, A)\n",
    "\n",
    "    if Answer == False:\n",
    "        Left = Mid+1\n",
    "    if Answer ==True:\n",
    "        Right = Mid\n",
    "\n",
    "print(Left) \n",
    "\n"
   ]
  },
  {
   "cell_type": "code",
   "execution_count": null,
   "metadata": {},
   "outputs": [],
   "source": []
  },
  {
   "cell_type": "code",
   "execution_count": null,
   "metadata": {},
   "outputs": [],
   "source": [
    "N, K = map(int, input().split())\n",
    "A = list(map(int, input().split()))\n",
    "\n",
    "R = [None]*N\n",
    "\n",
    "for i in range(0, N-1):\n",
    "    if i ==0:\n",
    "        R[i] =0\n",
    "    else:\n",
    "        R[i] = R[i-1]\n",
    "\n",
    "\n",
    "    while R[i]< N-1 and A[R[i]+1]-A[i]<=K:\n",
    "        R[i] += 1\n",
    "\n",
    "ans = 0\n",
    "for i in range(0, N-1):\n",
    "    ans = ans+R[i]-i\n",
    "\n",
    "print(ans)\n",
    "\n"
   ]
  },
  {
   "cell_type": "code",
   "execution_count": null,
   "metadata": {},
   "outputs": [],
   "source": [
    "# input\n",
    "N, K = map(int, input().split())\n",
    "A = list(map(int, input().split()))\n",
    "\n",
    "# R \n",
    "R = A.copy()\n",
    "\n",
    "# all search\n",
    "for i in range(N):\n",
    "    \n",
    "\n",
    "\n",
    "\n",
    "    \n",
    "# count"
   ]
  },
  {
   "cell_type": "code",
   "execution_count": 1,
   "metadata": {},
   "outputs": [
    {
     "ename": "ValueError",
     "evalue": "not enough values to unpack (expected 2, got 0)",
     "output_type": "error",
     "traceback": [
      "\u001b[1;31m---------------------------------------------------------------------------\u001b[0m",
      "\u001b[1;31mValueError\u001b[0m                                Traceback (most recent call last)",
      "\u001b[1;32m~\\AppData\\Local\\Temp\\ipykernel_17836\\3433766626.py\u001b[0m in \u001b[0;36m<module>\u001b[1;34m\u001b[0m\n\u001b[1;32m----> 1\u001b[1;33m \u001b[0mN\u001b[0m\u001b[1;33m,\u001b[0m \u001b[0mK\u001b[0m \u001b[1;33m=\u001b[0m \u001b[0mmap\u001b[0m\u001b[1;33m(\u001b[0m\u001b[0mint\u001b[0m\u001b[1;33m,\u001b[0m \u001b[0minput\u001b[0m\u001b[1;33m(\u001b[0m\u001b[1;33m)\u001b[0m\u001b[1;33m)\u001b[0m\u001b[1;33m\u001b[0m\u001b[1;33m\u001b[0m\u001b[0m\n\u001b[0m",
      "\u001b[1;31mValueError\u001b[0m: not enough values to unpack (expected 2, got 0)"
     ]
    }
   ],
   "source": [
    "N, K = map(int, input().split())\n",
    "A = list(map(int, input().split()))\n",
    "\n",
    "R = [None]*N\n",
    "for i in range(N):\n",
    "    if i ==0:\n",
    "        R[i] =0\n",
    "    else:\n",
    "        R[i] = A[R[i]]\n"
   ]
  },
  {
   "cell_type": "code",
   "execution_count": null,
   "metadata": {},
   "outputs": [],
   "source": []
  },
  {
   "cell_type": "code",
   "execution_count": 4,
   "metadata": {},
   "outputs": [
    {
     "name": "stdout",
     "output_type": "stream",
     "text": [
      "3\n",
      "[2, 5, 8, 13, 13, 18, 25, 30]\n",
      "3\n",
      "[2, 5, 8, 13, 13, 18, 25, 30]\n"
     ]
    }
   ],
   "source": [
    "import bisect\n",
    "li = [2, 5, 8, 13, 13, 18, 25, 30]\n",
    "\n",
    "ind = bisect.bisect_left(li, 10)\n",
    "print(ind)\n",
    "print(li)\n",
    "\n",
    "ind = bisect.bisect_left(li, 13)\n",
    "print(ind)\n",
    "print(li)"
   ]
  },
  {
   "cell_type": "code",
   "execution_count": null,
   "metadata": {},
   "outputs": [],
   "source": [
    "# input\n",
    "N, K  = map(int, input().split())\n",
    "A = list(map(int, input().split()))\n",
    "B  = list(map(int, input().split()))\n",
    "C  = list(map(int, input().split()))\n",
    "D  = list(map(int, input().split()))\n",
    "# p(A+B), Q(C+D)\n",
    "P=[]\n",
    "Q =[]\n",
    "\n",
    "for a in range(len(A)):\n",
    "    for b in range(len(B)):\n",
    "        P.append(A[a]+B[b])\n",
    "\n",
    "for c in range(len(C)):\n",
    "    for d in range(len(D)):\n",
    "        Q.append(C[c]+D[d])\n",
    "\n",
    "# K-P[i] = Q\n",
    "Q = Q.sort()\n",
    "\n",
    "\n",
    "for i in range(N*N):\n",
    "    if K-P[i] in Q:\n",
    "        print('Yes')\n",
    "        exit()\n",
    "print('No')\n"
   ]
  },
  {
   "cell_type": "code",
   "execution_count": null,
   "metadata": {},
   "outputs": [],
   "source": [
    "# input\n",
    "#import sys\n",
    "N, K  = map(int, input().split())\n",
    "A = list(map(int, input().split()))\n",
    "B  = list(map(int, input().split()))\n",
    "C  = list(map(int, input().split()))\n",
    "D  = list(map(int, input().split()))\n",
    "# p(A+B), Q(C+D)\n",
    "P=[]\n",
    "Q =[]\n",
    "\n",
    "for a in range(N):\n",
    "    for b in range(N):\n",
    "        P.append(A[a]+B[b])\n",
    "\n",
    "for c in range(N):\n",
    "    for d in range(N):\n",
    "        Q.append(C[c]+D[d])\n",
    "\n",
    "# K-P[i] = Q\n",
    "Q.sort()\n",
    "\n",
    "import bisect\n",
    "for i in range(len(P)):\n",
    "    pos1 = bisect.bisect_left(Q, K-P[i])\n",
    "    if pos1<N*N and Q[pos1]==K-P[i]:\n",
    "        print('Yes')\n",
    "        exit()\n",
    "\n",
    "print('No')"
   ]
  },
  {
   "cell_type": "code",
   "execution_count": null,
   "metadata": {},
   "outputs": [],
   "source": [
    "import bisect\n",
    "import sys\n",
    "\n",
    "# 入力\n",
    "N, K = map(int, input().split())\n",
    "A = list(map(int, input().split()))\n",
    "B = list(map(int, input().split()))\n",
    "C = list(map(int, input().split()))\n",
    "D = list(map(int, input().split()))\n",
    "\n",
    "# 配列 P を作成\n",
    "P = []\n",
    "for x in range(N):\n",
    "\tfor y in range(N):\n",
    "\t\tP.append(A[x] + B[y])\n",
    "\n",
    "# 配列 Q を作成\n",
    "Q = []\n",
    "for z in range(N):\n",
    "\tfor w in range(N):\n",
    "\t\tQ.append(C[z] + D[w])\n",
    "\n",
    "# 配列 Q を小さい順にソート\n",
    "Q.sort()\n",
    "\n",
    "# 二分探索\n",
    "for i in range(len(P)):\n",
    "\tpos1 = bisect.bisect_left(Q, K-P[i])\n",
    "\tif pos1<N*N and Q[pos1]==K-P[i]:\n",
    "\t\tprint(\"Yes\")\n",
    "\t\tsys.exit(0)\n",
    "\n",
    "# 見つからなかった場合\n",
    "print(\"No\")"
   ]
  },
  {
   "cell_type": "code",
   "execution_count": 5,
   "metadata": {},
   "outputs": [
    {
     "name": "stdout",
     "output_type": "stream",
     "text": [
      "{1: 0, 2: 1, 3: 2, 4: 3, 5: 4, 6: 5}\n",
      "1 2 3 4 5 6 2 3 4\n"
     ]
    }
   ],
   "source": [
    " A= [1,2,3,4,5,6,2,3,4]\n",
    " D = {v: i for i, v in enumerate(sorted(set(A)))}\n",
    " print(D)\n",
    "ans = []\n",
    " for a in A:\n",
    "    ans.append(D[a]+1)\n",
    "print(*ans)"
   ]
  },
  {
   "cell_type": "code",
   "execution_count": null,
   "metadata": {},
   "outputs": [],
   "source": [
    "N = int(input())\n",
    "A = list(map(int, input().split()))\n",
    "\n",
    "D = { v: i for i, v in enumerate(sorted(set(A))) }\n",
    "\n",
    "ans = []\n",
    "# 答え\n",
    "for a in A:\n",
    "    ans.append(D[a]+1)\n",
    "print(*ans)"
   ]
  },
  {
   "cell_type": "code",
   "execution_count": null,
   "metadata": {},
   "outputs": [],
   "source": []
  }
 ],
 "metadata": {
  "kernelspec": {
   "display_name": "Python 3.7.13 ('base')",
   "language": "python",
   "name": "python3"
  },
  "language_info": {
   "codemirror_mode": {
    "name": "ipython",
    "version": 3
   },
   "file_extension": ".py",
   "mimetype": "text/x-python",
   "name": "python",
   "nbconvert_exporter": "python",
   "pygments_lexer": "ipython3",
   "version": "3.7.13"
  },
  "orig_nbformat": 4,
  "vscode": {
   "interpreter": {
    "hash": "08a8b3365c8794cd169c696eb07d244554fc02b68625288d9805fd473ed8453a"
   }
  }
 },
 "nbformat": 4,
 "nbformat_minor": 2
}
