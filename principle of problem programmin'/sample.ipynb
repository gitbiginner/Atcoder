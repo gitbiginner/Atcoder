{
 "cells": [
  {
   "cell_type": "code",
   "execution_count": 18,
   "metadata": {},
   "outputs": [
    {
     "name": "stdout",
     "output_type": "stream",
     "text": [
      "1000000000\n"
     ]
    }
   ],
   "source": [
    "N =512\n",
    "\n",
    "ans = []\n",
    "for i in range(10,0, -1):\n",
    "    if N % 2**i == 0:\n",
    "        ans.append(0)\n",
    "    else:\n",
    "        ans.append(1)\n",
    "answer = 0\n",
    "for i in range(0,10):\n",
    "    answer += int(ans[i])*10**(9-i)\n",
    "\n",
    "print(answer)"
   ]
  },
  {
   "cell_type": "code",
   "execution_count": 17,
   "metadata": {},
   "outputs": [
    {
     "name": "stdout",
     "output_type": "stream",
     "text": [
      "1000000000\n"
     ]
    }
   ],
   "source": [
    "answer = 0\n",
    "for i in range(0,10):\n",
    "    answer += int(ans[i])*10**(9-i)\n",
    "\n",
    "print(answer)\n"
   ]
  },
  {
   "cell_type": "code",
   "execution_count": null,
   "metadata": {},
   "outputs": [],
   "source": []
  }
 ],
 "metadata": {
  "kernelspec": {
   "display_name": "Python 3",
   "language": "python",
   "name": "python3"
  },
  "language_info": {
   "codemirror_mode": {
    "name": "ipython",
    "version": 3
   },
   "file_extension": ".py",
   "mimetype": "text/x-python",
   "name": "python",
   "nbconvert_exporter": "python",
   "pygments_lexer": "ipython3",
   "version": "3.9.9"
  },
  "orig_nbformat": 4,
  "vscode": {
   "interpreter": {
    "hash": "d2a1836c10ebc18c4ffe0ef314343c9760316a78d3a49c1603dc72a857029309"
   }
  }
 },
 "nbformat": 4,
 "nbformat_minor": 2
}
