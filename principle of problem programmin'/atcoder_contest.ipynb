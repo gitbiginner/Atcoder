{
 "cells": [
  {
   "cell_type": "code",
   "execution_count": null,
   "metadata": {},
   "outputs": [],
   "source": [
    "N= int(input())\n",
    "H= list(map(int, input().split()))\n",
    "\n",
    "for i  in range(N):\n",
    "    if H[i] == max(H):\n",
    "        print(i+1)\n",
    "        exit()\n",
    "    else:\n",
    "        pass"
   ]
  },
  {
   "cell_type": "code",
   "execution_count": null,
   "metadata": {},
   "outputs": [],
   "source": [
    "A, B, C, D, E, F = map(int, input().split())\n",
    "\n",
    "mod = 998244353\n",
    "\n",
    "ABC_DEF = (A*B*C)-(D*E*F)\n",
    "\n",
    "if ABC_DEF < 998244353:\n",
    "    print(ABC_DEF)\n",
    "else:\n",
    "    print(ABC_DEF%mod)"
   ]
  },
  {
   "cell_type": "code",
   "execution_count": null,
   "metadata": {},
   "outputs": [],
   "source": [
    "S = [None]*9\n",
    "\n",
    " #make sqare\n",
    "for i in range(9):\n",
    "    S[i] = str(input())\n",
    "print(S)\n",
    "\n",
    "ans = 0\n",
    "# decide center point 2types\n",
    "tag = []\n",
    "for i in range(8):\n",
    "    for j in range(8):\n",
    "        min_ij = S[i][j]\n",
    "\n",
    "        if min_ij == '#':\n",
    "            tag.append([i,j])        \n",
    "        else:\n",
    "            pass\n",
    "\n",
    "if len(tag) < 4:\n",
    "    print(0)\n",
    "else:\n",
    "    pass\n",
    "\n",
    "for t in range(len(tag)):\n",
    "\n",
    "    \n",
    "# count answer\n",
    "\n"
   ]
  },
  {
   "cell_type": "code",
   "execution_count": null,
   "metadata": {},
   "outputs": [],
   "source": [
    "#276\n",
    "#input\n",
    "S = input()\n",
    "ans=0\n",
    "# count a\n",
    "\n",
    "if 'a' not in S:\n",
    "    print(-1)\n",
    "\n",
    "else:\n",
    "    for i in range(len(S)):\n",
    "        if S[i] == 'a':\n",
    "            ans = i\n",
    "\n",
    "    print(ans+1)\n",
    "# count==0; ans=-1\n",
    "#else ans = i+1 (0<=i<=N-1)\n",
    "\n",
    "\n"
   ]
  },
  {
   "cell_type": "code",
   "execution_count": null,
   "metadata": {},
   "outputs": [],
   "source": [
    "# input\n",
    "N, M = map(int, input().split())\n",
    "\n",
    "A = [None]*(M+1)\n",
    "B = [None]*(M+1)\n",
    "# connect 2d array \n",
    "connect = [[] for i in range(M+1)]\n",
    "# connect[A].append(B)\n",
    "# for i in range(N)\n",
    "for i in range(1,M+1):\n",
    "    A[i], B[i] = map(int, input().split())\n",
    "    connect[A[i]].append(B[i])\n",
    "    connect[B[i]].append(A[i])\n",
    "# connect[i] = [2,3,4] i <M\n",
    "\n",
    "for i in range(1,N+1):\n",
    "    connect[i].sort()\n",
    "    d1 = len(connect[i])\n",
    "    connect[i].insert(0, d1)\n",
    "    print(*connect[i])\n",
    "        \n",
    "# ans = connect[i].sort(ascending=True)\n",
    "# d1 = len(ans)\n",
    "# print(d1, ans[i])"
   ]
  },
  {
   "cell_type": "code",
   "execution_count": null,
   "metadata": {},
   "outputs": [],
   "source": [
    "# factorial\n",
    "\n",
    "# input\n",
    "N = int(input())\n",
    "P = list(map(str, input().split()))\n",
    "\n",
    "# p sort\n",
    "import itertools\n",
    "\n",
    "all = itertools.permutations(P, N)\n",
    "ans = []\n",
    "for x in all:\n",
    "    #print(*list(x))\n",
    "    ans.append(list(x))\n",
    "\n",
    "for i in range(len(ans)):\n",
    "    if ans[i] == P:\n",
    "        print(*ans[i-1])\n",
    "\n"
   ]
  },
  {
   "cell_type": "code",
   "execution_count": null,
   "metadata": {},
   "outputs": [],
   "source": []
  },
  {
   "cell_type": "code",
   "execution_count": null,
   "metadata": {},
   "outputs": [],
   "source": []
  },
  {
   "cell_type": "code",
   "execution_count": null,
   "metadata": {},
   "outputs": [],
   "source": [
    "li = [3,1,4,1,5,9,2,6,5,3]\n",
    "k = int(input())\n",
    "print(li[k])\n",
    "\n",
    "# https://algo-method.com/tasks/824"
   ]
  }
 ],
 "metadata": {
  "kernelspec": {
   "display_name": "Python 3.7.13 ('base')",
   "language": "python",
   "name": "python3"
  },
  "language_info": {
   "name": "python",
   "version": "3.7.13 (default, Mar 28 2022, 08:03:21) [MSC v.1916 64 bit (AMD64)]"
  },
  "orig_nbformat": 4,
  "vscode": {
   "interpreter": {
    "hash": "08a8b3365c8794cd169c696eb07d244554fc02b68625288d9805fd473ed8453a"
   }
  }
 },
 "nbformat": 4,
 "nbformat_minor": 2
}
