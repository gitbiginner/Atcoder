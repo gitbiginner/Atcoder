{
 "cells": [
  {
   "cell_type": "code",
   "execution_count": null,
   "metadata": {},
   "outputs": [],
   "source": [
    "N= int(input())\n",
    "A = list(map(int, input().split()))\n",
    "B = list(map(int, input().split()))\n",
    "\n",
    "# dp array = route time\n",
    "# dp[n] = time from room 1 to room n \n",
    "dp = [None]*(N+1)\n",
    "dp[1] = 0\n",
    "dp[2] = A[0]\n",
    "\n",
    "for i in range(3, N+1):\n",
    "    dp[i] = min(dp[i-1]+A[i-2], dp[i-2]+B[i-3])\n",
    "\n",
    "# dp.append min(Ai+Ai+1, Bi)\n",
    "print(dp[N])"
   ]
  },
  {
   "cell_type": "code",
   "execution_count": null,
   "metadata": {},
   "outputs": [],
   "source": [
    "N= int(input())\n",
    "A = list(map(int, input().split()))\n",
    "B = list(map(int, input().split()))\n",
    "\n",
    "# dp array = route time\n",
    "# dp[n] = time from room 1 to room n \n",
    "dp = [None]*(N+1)\n",
    "dp[1] = 0\n",
    "dp[2] = A[0]\n",
    "\n",
    "Answer =[]\n",
    "\n",
    "\n",
    "for i in range(3, N+1):\n",
    "    dp[i] = min(dp[i-1]+A[i-2], dp[i-2]+B[i-3])\n",
    "\n",
    "\n",
    "# reverse 5-> 4-> 2->1\n",
    "Place=N\n",
    "\n",
    "while True:\n",
    "    Answer.append(Place)\n",
    "    if Place ==1:\n",
    "        break\n",
    "    if dp[Place-1]+A[Place-2] == dp[Place]:\n",
    "        Place = Place-1\n",
    "    else:\n",
    "        Place = Place-2\n",
    "Answer.reverse()\n",
    "\n",
    "Answer2 = [str(i) for i in Answer]\n",
    "print(len(Answer))\n",
    "print(*Answer2)\n"
   ]
  }
 ],
 "metadata": {
  "language_info": {
   "name": "python"
  },
  "orig_nbformat": 4
 },
 "nbformat": 4,
 "nbformat_minor": 2
}
