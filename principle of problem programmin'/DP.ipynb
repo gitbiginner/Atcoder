{
 "cells": [
  {
   "cell_type": "code",
   "execution_count": null,
   "metadata": {},
   "outputs": [],
   "source": [
    "N= int(input())\n",
    "A = list(map(int, input().split()))\n",
    "B = list(map(int, input().split()))\n",
    "\n",
    "# dp array = route time\n",
    "# dp[n] = time from room 1 to room n \n",
    "dp = [None]*(N+1)\n",
    "dp[1] = 0\n",
    "dp[2] = A[0]\n",
    "\n",
    "for i in range(3, N+1):\n",
    "    dp[i] = min(dp[i-1]+A[i-2], dp[i-2]+B[i-3])\n",
    "\n",
    "# dp.append min(Ai+Ai+1, Bi)\n",
    "print(dp[N])"
   ]
  },
  {
   "cell_type": "code",
   "execution_count": null,
   "metadata": {},
   "outputs": [],
   "source": [
    "N= int(input())\n",
    "A = list(map(int, input().split()))\n",
    "B = list(map(int, input().split()))\n",
    "\n",
    "# dp array = route time\n",
    "# dp[n] = time from room 1 to room n \n",
    "dp = [None]*(N+1)\n",
    "dp[1] = 0\n",
    "dp[2] = A[0]\n",
    "\n",
    "Answer =[]\n",
    "\n",
    "\n",
    "for i in range(3, N+1):\n",
    "    dp[i] = min(dp[i-1]+A[i-2], dp[i-2]+B[i-3])\n",
    "\n",
    "\n",
    "# reverse 5-> 4-> 2->1\n",
    "Place=N\n",
    "\n",
    "while True:\n",
    "    Answer.append(Place)\n",
    "    if Place ==1:\n",
    "        break\n",
    "    if dp[Place-1]+A[Place-2] == dp[Place]:\n",
    "        Place = Place-1\n",
    "    else:\n",
    "        Place = Place-2\n",
    "Answer.reverse()\n",
    "\n",
    "Answer2 = [str(i) for i in Answer]\n",
    "print(len(Answer))\n",
    "print(*Answer2)\n",
    "# print(dp[0])\n"
   ]
  },
  {
   "cell_type": "code",
   "execution_count": null,
   "metadata": {},
   "outputs": [],
   "source": [
    "N, S = map(int, input().split())\n",
    "A = list(map(int, input().split()))\n",
    "\n",
    "dp = [[None]*(S+1) for i in range(N+1)]\n",
    "dp[0][0] = True\n",
    "# dp[i][j] : i=select card count, j = target number\n",
    "\n",
    "for i in range(1, S+1):\n",
    "\tdp[0][i] = False\n",
    "\n",
    "for i in range(1, N+1):\n",
    "    for j in range(0, S+1):\n",
    "        if j < A[i-1]:\n",
    "            if dp[i-1][j] ==True:\n",
    "                dp[i][j] = True\n",
    "            else:\n",
    "                dp[i][j]=False\n",
    "                \n",
    "        if j >= A[i-1]:\n",
    "            if dp[i-1][j] == True or dp[i-1][j-A[i-1]] == True:\n",
    "\t\t\t\tdp[i][j] = True\n",
    "\t\t\telse:\n",
    "\t\t\t\tdp[i][j] = False\n",
    "\n",
    "# 出力\n",
    "if dp[N][S] == True:\n",
    "\tprint(\"Yes\")\n",
    "else:\n",
    "\tprint(\"No\")"
   ]
  },
  {
   "cell_type": "code",
   "execution_count": null,
   "metadata": {},
   "outputs": [],
   "source": [
    "\n",
    "# 入力\n",
    "N, S = map(int, input().split())\n",
    "A = list(map(int, input().split()))\n",
    "\n",
    "# 動的計画法（i=0）\n",
    "dp = [ [ None ] * (S + 1) for i in range(N + 1) ]\n",
    "dp[0][0] = True\n",
    "for i in range(1, S+1):\n",
    "\tdp[0][i] = False\n",
    "\n",
    "# 動的計画法（i=1）\n",
    "for i in range(1, N+1):\n",
    "\tfor j in range(0,S+1):\n",
    "\t\tif j < A[i-1]:\n",
    "\t\t\tif dp[i-1][j] == True:\n",
    "\t\t\t\tdp[i][j] = True\n",
    "\t\t\telse:\n",
    "\t\t\t\tdp[i][j] = False\n",
    "\n",
    "\t\tif j >= A[i-1]:\n",
    "\t\t\tif dp[i-1][j] == True or dp[i-1][j-A[i-1]] == True:\n",
    "\t\t\t\tdp[i][j] = True\n",
    "\t\t\telse:\n",
    "\t\t\t\tdp[i][j] = False\n",
    "\n",
    "# 出力\n",
    "if dp[N][S] == True:\n",
    "\tprint(\"Yes\")\n",
    "else:\n",
    "\tprint(\"No\")\n"
   ]
  },
  {
   "cell_type": "code",
   "execution_count": 5,
   "metadata": {},
   "outputs": [
    {
     "data": {
      "application/vnd.jupyter.widget-view+json": {
       "model_id": "319114b2d8b446fb8e25017aac563e50",
       "version_major": 2,
       "version_minor": 0
      },
      "text/plain": [
       "Textarea(value='')"
      ]
     },
     "metadata": {},
     "output_type": "display_data"
    }
   ],
   "source": [
    "from ipywidgets import Textarea\n",
    "\n",
    "def get_input(change):\n",
    "    global Input\n",
    "    Input = change[\"new\"]\n",
    "\n",
    "textarea = Textarea()\n",
    "textarea.observe(get_input, names='value')\n",
    "display(textarea)"
   ]
  },
  {
   "cell_type": "code",
   "execution_count": 6,
   "metadata": {},
   "outputs": [
    {
     "ename": "TypeError",
     "evalue": "unsupported operand type(s) for +: 'NoneType' and 'int'",
     "output_type": "error",
     "traceback": [
      "\u001b[1;31m---------------------------------------------------------------------------\u001b[0m",
      "\u001b[1;31mTypeError\u001b[0m                                 Traceback (most recent call last)",
      "\u001b[1;32m~\\AppData\\Local\\Temp\\ipykernel_6396\\4082600306.py\u001b[0m in \u001b[0;36m<module>\u001b[1;34m\u001b[0m\n\u001b[0;32m     26\u001b[0m             \u001b[0mdp\u001b[0m\u001b[1;33m[\u001b[0m\u001b[0mi\u001b[0m\u001b[1;33m]\u001b[0m\u001b[1;33m[\u001b[0m\u001b[0mj\u001b[0m\u001b[1;33m]\u001b[0m \u001b[1;33m=\u001b[0m \u001b[0mdp\u001b[0m\u001b[1;33m[\u001b[0m\u001b[0mi\u001b[0m\u001b[1;33m-\u001b[0m\u001b[1;36m1\u001b[0m\u001b[1;33m]\u001b[0m\u001b[1;33m[\u001b[0m\u001b[0mj\u001b[0m\u001b[1;33m]\u001b[0m\u001b[1;33m\u001b[0m\u001b[1;33m\u001b[0m\u001b[0m\n\u001b[0;32m     27\u001b[0m         \u001b[1;32melse\u001b[0m\u001b[1;33m:\u001b[0m\u001b[1;33m\u001b[0m\u001b[1;33m\u001b[0m\u001b[0m\n\u001b[1;32m---> 28\u001b[1;33m             \u001b[0mdp\u001b[0m\u001b[1;33m[\u001b[0m\u001b[0mi\u001b[0m\u001b[1;33m]\u001b[0m\u001b[1;33m[\u001b[0m\u001b[0mj\u001b[0m\u001b[1;33m]\u001b[0m \u001b[1;33m=\u001b[0m \u001b[0mmax\u001b[0m\u001b[1;33m(\u001b[0m\u001b[0mdp\u001b[0m\u001b[1;33m[\u001b[0m\u001b[0mi\u001b[0m\u001b[1;33m-\u001b[0m\u001b[1;36m1\u001b[0m\u001b[1;33m]\u001b[0m\u001b[1;33m[\u001b[0m\u001b[0mj\u001b[0m\u001b[1;33m]\u001b[0m\u001b[1;33m,\u001b[0m \u001b[0mdp\u001b[0m\u001b[1;33m[\u001b[0m\u001b[0mi\u001b[0m\u001b[1;33m-\u001b[0m\u001b[1;36m1\u001b[0m\u001b[1;33m]\u001b[0m\u001b[1;33m[\u001b[0m\u001b[0mj\u001b[0m\u001b[1;33m-\u001b[0m\u001b[0mw\u001b[0m\u001b[1;33m[\u001b[0m\u001b[0mi\u001b[0m\u001b[1;33m]\u001b[0m\u001b[1;33m]\u001b[0m\u001b[1;33m+\u001b[0m\u001b[0mv\u001b[0m\u001b[1;33m[\u001b[0m\u001b[0mi\u001b[0m\u001b[1;33m]\u001b[0m\u001b[1;33m)\u001b[0m\u001b[1;33m\u001b[0m\u001b[1;33m\u001b[0m\u001b[0m\n\u001b[0m\u001b[0;32m     29\u001b[0m \u001b[0mprint\u001b[0m\u001b[1;33m(\u001b[0m\u001b[0mmax\u001b[0m\u001b[1;33m(\u001b[0m\u001b[0mdp\u001b[0m\u001b[1;33m[\u001b[0m\u001b[0mN\u001b[0m\u001b[1;33m]\u001b[0m\u001b[1;33m)\u001b[0m\u001b[1;33m)\u001b[0m\u001b[1;33m\u001b[0m\u001b[1;33m\u001b[0m\u001b[0m\n\u001b[0;32m     30\u001b[0m \u001b[1;33m\u001b[0m\u001b[0m\n",
      "\u001b[1;31mTypeError\u001b[0m: unsupported operand type(s) for +: 'NoneType' and 'int'"
     ]
    }
   ],
   "source": [
    "\n",
    "\n",
    "N, W = map(int, input().split())\n",
    "\n",
    "w  = [None]*(N+1)\n",
    "v = [None]*(N+1)\n",
    "\n",
    "# make W+1 N+1 dp\n",
    "for i in range(1, N+1):\n",
    "    w[i], v[i] = map(int, input().split())\n",
    "\n",
    "# dp[0][0] = 0\n",
    "dp = [[-1]*(W+1) for i in range(N+1)]\n",
    "dp[0][0] = 0\n",
    "\n",
    "# dp[1:N+1][0:W+1]\n",
    "# \n",
    "for i in range(1, N+1):\n",
    "    for j in range(0, W+1):\n",
    "        # j > W[i] : dp[i][j] = dp[i-1][j]\n",
    "        # else : dp[i][j] = max(dp[i-1][j],dp[i-1][j-w[i]]+v[i]#\n",
    "\n",
    "        if j < w[i]:\n",
    "            dp[i][j] = dp[i-1][j]\n",
    "        else:\n",
    "            dp[i][j] = max(dp[i-1][j], dp[i-1][j-w[i]]+v[i])\n",
    "print(max(dp[N]))\n",
    "\n",
    "# print max(dp[N])\n",
    "    \n"
   ]
  },
  {
   "cell_type": "code",
   "execution_count": null,
   "metadata": {},
   "outputs": [],
   "source": []
  },
  {
   "cell_type": "code",
   "execution_count": null,
   "metadata": {},
   "outputs": [],
   "source": []
  }
 ],
 "metadata": {
  "kernelspec": {
   "display_name": "Python 3.7.13 ('base')",
   "language": "python",
   "name": "python3"
  },
  "language_info": {
   "codemirror_mode": {
    "name": "ipython",
    "version": 3
   },
   "file_extension": ".py",
   "mimetype": "text/x-python",
   "name": "python",
   "nbconvert_exporter": "python",
   "pygments_lexer": "ipython3",
   "version": "3.7.13"
  },
  "orig_nbformat": 4,
  "vscode": {
   "interpreter": {
    "hash": "08a8b3365c8794cd169c696eb07d244554fc02b68625288d9805fd473ed8453a"
   }
  }
 },
 "nbformat": 4,
 "nbformat_minor": 2
}
