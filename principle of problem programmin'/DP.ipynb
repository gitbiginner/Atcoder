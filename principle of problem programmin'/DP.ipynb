{
 "cells": [
  {
   "cell_type": "code",
   "execution_count": null,
   "metadata": {},
   "outputs": [],
   "source": [
    "N= int(input())\n",
    "A = list(map(int, input().split()))\n",
    "B = list(map(int, input().split()))\n",
    "\n",
    "# dp array = route time\n",
    "# dp[n] = time from room 1 to room n \n",
    "dp = [None]*(N+1)\n",
    "dp[1] = 0\n",
    "dp[2] = A[0]\n",
    "\n",
    "for i in range(3, N+1):\n",
    "    dp[i] = min(dp[i-1]+A[i-2], dp[i-2]+B[i-3])\n",
    "\n",
    "# dp.append min(Ai+Ai+1, Bi)\n",
    "print(dp[N])"
   ]
  }
 ],
 "metadata": {
  "language_info": {
   "name": "python"
  },
  "orig_nbformat": 4
 },
 "nbformat": 4,
 "nbformat_minor": 2
}
