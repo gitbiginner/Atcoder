{
 "cells": [
  {
   "cell_type": "code",
   "execution_count": 1,
   "metadata": {},
   "outputs": [
    {
     "name": "stdout",
     "output_type": "stream",
     "text": [
      "H\n"
     ]
    }
   ],
   "source": [
    "print('H')\n",
    "print('add')"
   ]
  },
  {
   "cell_type": "code",
   "execution_count": null,
   "metadata": {},
   "outputs": [],
   "source": [
    "N=int(input())\n",
    "\n",
    "A = [0]+list(map(int, input().split()))\n",
    "B = [0]+list(map(int, input().split()))\n",
    "C = [0]+list(map(int, input().split()))\n",
    "\n",
    "ans = 0\n",
    "for i in range(1, N):\n",
    "    for j in range(1, N):\n",
    "        if A[i] == B[C[j]]:\n",
    "            ans += 1\n",
    "print(ans)"
   ]
  },
  {
   "cell_type": "code",
   "execution_count": null,
   "metadata": {},
   "outputs": [],
   "source": [
    "N=int(input())\n",
    "\n",
    "A = [0]+list(map(int, input().split()))\n",
    "B = [0]+list(map(int, input().split()))\n",
    "C = [0]+list(map(int, input().split()))\n",
    "\n",
    "for j in range(1, N+1):\n",
    "    BC[j] = B[C[j]]\n",
    "\n",
    "A_count = [0] * (N+1)\n",
    "\n",
    "for i in range(1, N+1):\n",
    "    A_count[A[i]] = A_count[A[i]]+1\n",
    "    \n",
    "BCcount = [0]*(N+1)\n",
    "\n",
    "for j in range(1, N+1):\n",
    "    BCcount[BC[j]] = BCcount[BC[j]]+1\n",
    "\n",
    "ans = 0\n",
    "\n",
    "for i in range(1,N+1):\n",
    "    ans += A_count[i]*BCcount[i]\n",
    "    \n",
    "print(ans)"
   ]
  },
  {
   "cell_type": "code",
   "execution_count": null,
   "metadata": {},
   "outputs": [],
   "source": [
    "# 入力の受け取り\n",
    "N=int(input())\n",
    "\n",
    "# 0番目を埋めるため[0]とする\n",
    "A=[0]+list(map(int, input().split()))\n",
    "B=[0]+list(map(int, input().split()))\n",
    "C=[0]+list(map(int, input().split()))\n",
    "\n",
    "# B_Cjの値を格納するリスト\n",
    "B_Cj=[0]*(N+1)\n",
    "# j=1~Nまで\n",
    "for j in range(1,N+1):\n",
    "    # B_(Cj)の値を確認\n",
    "    B_Cj[j]=B[C[j]]\n",
    "\n",
    "# Aの値をカウントするリスト\n",
    "# 例：A_count[2]=3だったらAに「2」が3個ある\n",
    "A_count=[0]*(N+1)\n",
    "# i=1~Nまで\n",
    "for i in range(1,N+1):\n",
    "    # Aの値を確認し、カウントしていく\n",
    "    A_count[A[i]]+=1\n",
    "\n",
    "# B_Cjの値をカウントするリスト\n",
    "B_Cj_count=[0]*(N+1)\n",
    "# i=1～Nまで\n",
    "for i in range(1,N+1):\n",
    "    # B_Cjの値を確認し、カウントしていく\n",
    "    B_Cj_count[B_Cj[i]]+=1\n",
    " \n",
    "# 答えを格納する変数\n",
    "ans=0\n",
    "\n",
    "# i=1~Nまで\n",
    "for i in range(1,N+1):\n",
    "    # (Aにiが含まれる個数)×(B_(Cj)に2が含まれる個数)\n",
    "    ans+=A_count[i]*B_Cj_count[i]\n",
    "\n",
    "# 答えの出力\n",
    "print(ans)"
   ]
  },
  {
   "cell_type": "code",
   "execution_count": 1,
   "metadata": {},
   "outputs": [
    {
     "name": "stdout",
     "output_type": "stream",
     "text": [
      "6\n"
     ]
    }
   ],
   "source": [
    "from math import factorial\n",
    "\n",
    "numerator = factorial(3)\n",
    "print(numerator)"
   ]
  },
  {
   "cell_type": "code",
   "execution_count": null,
   "metadata": {},
   "outputs": [],
   "source": [
    "from math import factorial\n",
    "\n",
    "def nCr(n, r):\n",
    "    numerator = factorial(n)\n",
    "    denominator = factorial(n-r)*factorial(r)\n",
    "    return numerator//denominator\n",
    "\n",
    "A, B, K = map(int, input().split())\n",
    "\n",
    "ans = \"\"\n",
    "num = 1\n",
    "\n",
    "while A>0 or B>0:\n",
    "    if A == 0:\n",
    "        ans += \"b\"\n",
    "        B-= 1\n",
    "        continue\n",
    "        \n",
    "    if B == 0:\n",
    "        ans += \"a\"\n",
    "        A-=1\n",
    "        continue\n",
    "\n",
    "    b_start = num +nCr(A-1+B, B)\n",
    "\n",
    "    if K < b_start:\n",
    "        ans += \"a\"\n",
    "        A-=1\n",
    "    else:\n",
    "        ans += \"b\"\n",
    "        num = b_start\n",
    "        B-=1\n",
    "print(ans)\n",
    "\n"
   ]
  },
  {
   "cell_type": "code",
   "execution_count": null,
   "metadata": {},
   "outputs": [],
   "source": []
  },
  {
   "cell_type": "code",
   "execution_count": null,
   "metadata": {},
   "outputs": [],
   "source": [
    "# 階乗\n",
    "from math import factorial\n",
    " \n",
    "# nCr\n",
    "# 引数：n,r→戻り値：nCr\n",
    "def nCr(n,r):\n",
    "    # 分子\n",
    "    numerator=factorial(n)\n",
    "    # 分母\n",
    "    denominator=factorial(n-r)*factorial(r)\n",
    "    # (分子)/(分母)を返す\n",
    "    return numerator//denominator\n",
    "\n",
    "# 入力の受け取り\n",
    "A,B,K=map(int, input().split())\n",
    "\n",
    "# 答え\n",
    "ans=\"\"\n",
    "\n",
    "# 『「確定した文字」＋「○○...○」のうち辞書順最初のもの』は何番目か\n",
    "num=1\n",
    "\n",
    "# A(「a」の残り個数)かB(「b」の残り個数)が0より大きい間\n",
    "while 0<A or 0<B:\n",
    "    # もしAが0ならば\n",
    "    if A==0:\n",
    "        # 「b」を末尾へ\n",
    "        ans+=\"b\"\n",
    "        # 「b」の数を1個減らす\n",
    "        B-=1\n",
    "        # 繰り返し\n",
    "        continue\n",
    "\n",
    "    # もしBが0ならば\n",
    "    if B==0:\n",
    "        # 「a」を末尾へ\n",
    "        ans+=\"a\"\n",
    "        # 「a」の数を減らす\n",
    "        A-=1\n",
    "        # 繰り返し\n",
    "        continue\n",
    "\n",
    "    # 『残り部分の最初の文字が「b」』の辞書順最初の文字が何番目か\n",
    "    # ⇔num+『残り部分の最初の文字が「a」である場合の順列の数』\n",
    "    # ⇔num+『「a」が(A-1)個、「b」がB個の順列の数』\n",
    "    b_start=num+nCr(A-1+B,B)\n",
    "\n",
    "    # もしKがb_startより小さいならば\n",
    "    if K<b_start:\n",
    "        # 末尾に「a」を追加\n",
    "        ans+=\"a\"\n",
    "        # 「a」の数を1個減らす\n",
    "        A-=1\n",
    "\n",
    "    # そうでないなら(もしb_start<=Kならば)\n",
    "    else:\n",
    "        # 末尾に「b」を追加\n",
    "        ans+=\"b\"\n",
    "        # 辞書順で(b_start)番目\n",
    "        num=b_start\n",
    "        # 「b」の数を1個減らす\n",
    "        B-=1\n",
    "\n",
    "# 答えの出力        \n",
    "print(ans)"
   ]
  }
 ],
 "metadata": {
  "kernelspec": {
   "display_name": "Python 3 (ipykernel)",
   "language": "python",
   "name": "python3"
  },
  "language_info": {
   "codemirror_mode": {
    "name": "ipython",
    "version": 3
   },
   "file_extension": ".py",
   "mimetype": "text/x-python",
   "name": "python",
   "nbconvert_exporter": "python",
   "pygments_lexer": "ipython3",
   "version": "3.7.13"
  },
  "vscode": {
   "interpreter": {
    "hash": "08a8b3365c8794cd169c696eb07d244554fc02b68625288d9805fd473ed8453a"
   }
  }
 },
 "nbformat": 4,
 "nbformat_minor": 4
}
