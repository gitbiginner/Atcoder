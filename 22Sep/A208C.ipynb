{
 "cells": [
  {
   "cell_type": "code",
   "execution_count": null,
   "metadata": {},
   "outputs": [],
   "source": [
    "#https://atcoder.jp/contests/abc208/tasks/abc208_c"
   ]
  },
  {
   "cell_type": "code",
   "execution_count": null,
   "metadata": {},
   "outputs": [],
   "source": [
    "N, K = map(int,input().split())\n",
    "\n",
    "\n",
    "a = list(map(int, input().split()))\n",
    "\n",
    "# list.sort() will destroy original list\n",
    "a_sort = sorted(a)\n",
    "\n",
    "number_order = dict()\n",
    "\n",
    "for i in range(N):\n",
    "    number_order[a_sort[i]] = i+1\n",
    "\n",
    "syow = K//N\n",
    "amari = K%N\n",
    "\n",
    "for i in range(N):\n",
    "    if number_order[a[i]] <= amari:\n",
    "        print(syow+1)\n",
    "    else:\n",
    "        print(syow)\n",
    "\n"
   ]
  }
 ],
 "metadata": {
  "kernelspec": {
   "display_name": "Python 3.7.13 ('base')",
   "language": "python",
   "name": "python3"
  },
  "language_info": {
   "name": "python",
   "version": "3.7.13"
  },
  "orig_nbformat": 4,
  "vscode": {
   "interpreter": {
    "hash": "08a8b3365c8794cd169c696eb07d244554fc02b68625288d9805fd473ed8453a"
   }
  }
 },
 "nbformat": 4,
 "nbformat_minor": 2
}
