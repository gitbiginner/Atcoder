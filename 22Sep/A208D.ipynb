{
 "cells": [
  {
   "cell_type": "markdown",
   "metadata": {},
   "source": [
    "https://atcoder.jp/contests/abc208/tasks/abc208_d"
   ]
  },
  {
   "cell_type": "code",
   "execution_count": null,
   "metadata": {},
   "outputs": [],
   "source": [
    "# submit pypy3\n",
    "\n",
    "N, M = map(int, input().split())\n",
    "\n",
    "inf = 10**10\n",
    "\n",
    "time = [[inf]*(N+1) for i in range(N+1)]\n",
    "# inf ==0 \n",
    "\n",
    "for i in range(1, N+1):\n",
    "    time[i][i] = 0\n",
    "\n",
    "for i in range(M):\n",
    "    A, B, C = map(int, input().split())\n",
    "    time[A][B] =C\n",
    "\n",
    "ans =0\n",
    "#k \n",
    "\n",
    "for k in range(1, N+1):\n",
    "    new_time = [[0]*(N+1) for i in range(N+1)]\n",
    "\n",
    "#start: s, goal: t\n",
    "\n",
    "    for start in range(1, N+1):\n",
    "        for goal in range(1, N+1):\n",
    "            new_time[start][goal] = min(time[start][goal], time[start][k]+time[k][goal])\n",
    "\n",
    "    for start in range(1, N+1):\n",
    "        for goal in range(1, N+1):\n",
    "            if new_time[start][goal] != inf:\n",
    "                ans += new_time[start][goal]\n",
    "\n",
    "    time = new_time\n",
    "print(ans)\n",
    "\n",
    "\n"
   ]
  }
 ],
 "metadata": {
  "language_info": {
   "name": "python"
  },
  "orig_nbformat": 4
 },
 "nbformat": 4,
 "nbformat_minor": 2
}
