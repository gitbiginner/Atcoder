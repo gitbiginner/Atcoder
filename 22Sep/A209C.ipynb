{
 "cells": [
  {
   "cell_type": "markdown",
   "metadata": {},
   "source": [
    "https://atcoder.jp/contests/abc209/tasks/abc209_c"
   ]
  },
  {
   "cell_type": "code",
   "execution_count": null,
   "metadata": {},
   "outputs": [],
   "source": [
    "N = int(input())\n",
    "C = list(map(int, input().split()))\n",
    "\n",
    "Cs = sorted(C)\n",
    "mod = 10**9+7\n",
    "\n",
    "ans = 1\n",
    "for i in range(N):\n",
    "    if Cs[i] ==0:\n",
    "        ptint(0)\n",
    "        exit()\n",
    "\n",
    "    ans = ans*(Cs[i]-i)\n",
    "    ans = ans % mod\n",
    "print(ans)\n",
    "\n",
    "\n",
    "\n"
   ]
  }
 ],
 "metadata": {
  "kernelspec": {
   "display_name": "Python 3.7.13 ('base')",
   "language": "python",
   "name": "python3"
  },
  "language_info": {
   "name": "python",
   "version": "3.7.13"
  },
  "orig_nbformat": 4,
  "vscode": {
   "interpreter": {
    "hash": "08a8b3365c8794cd169c696eb07d244554fc02b68625288d9805fd473ed8453a"
   }
  }
 },
 "nbformat": 4,
 "nbformat_minor": 2
}
