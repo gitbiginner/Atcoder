{
 "cells": [
  {
   "cell_type": "markdown",
   "metadata": {},
   "source": [
    "https://atcoder.jp/contests/abc209/tasks/abc209_c"
   ]
  },
  {
   "cell_type": "code",
   "execution_count": null,
   "metadata": {},
   "outputs": [],
   "source": [
    "N = int(input())\n",
    "C = list(map(int, input().split()))\n",
    "\n",
    "Cs = sorted(C)\n",
    "mod = 10**9+7\n",
    "\n",
    "ans = 1\n",
    "for i in range(N):\n",
    "    if Cs[i] ==0:\n",
    "        ptint(0)\n",
    "        exit()\n",
    "\n",
    "    ans = ans*(Cs[i]-i)\n",
    "    ans = ans % mod\n",
    "print(ans)\n",
    "\n",
    "\n",
    "\n"
   ]
  }
 ],
 "metadata": {
  "language_info": {
   "name": "python"
  },
  "orig_nbformat": 4
 },
 "nbformat": 4,
 "nbformat_minor": 2
}
