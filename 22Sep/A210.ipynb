{
 "cells": [
  {
   "cell_type": "code",
   "execution_count": null,
   "metadata": {},
   "outputs": [],
   "source": []
  },
  {
   "cell_type": "markdown",
   "metadata": {},
   "source": [
    "https://atcoder.jp/contests/abc210/tasks/abc210_a"
   ]
  },
  {
   "cell_type": "code",
   "execution_count": null,
   "metadata": {},
   "outputs": [],
   "source": [
    "N, A, X, Y = map(int, input().split())\n",
    "\n",
    "\n",
    "\n",
    "#A\n",
    "#X*A\n",
    "\n",
    "#A + 1 ～\n",
    "#Y*(N-A)\n",
    "\n",
    "if N <= A:\n",
    "    print(X*N)\n",
    "else:\n",
    "    print(X*A+Y*(N-A))"
   ]
  },
  {
   "cell_type": "code",
   "execution_count": null,
   "metadata": {},
   "outputs": [],
   "source": []
  }
 ],
 "metadata": {
  "language_info": {
   "name": "python"
  },
  "orig_nbformat": 4
 },
 "nbformat": 4,
 "nbformat_minor": 2
}
