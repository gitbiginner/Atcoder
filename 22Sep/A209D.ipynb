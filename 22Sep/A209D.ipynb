{
 "cells": [
  {
   "cell_type": "markdown",
   "metadata": {},
   "source": [
    "https://atcoder.jp/contests/abc209/tasks/abc209_d"
   ]
  },
  {
   "cell_type": "code",
   "execution_count": null,
   "metadata": {},
   "outputs": [],
   "source": [
    "N,Q=map(int, input().split())\n",
    "\n",
    "\n",
    "connect=[[] for i in range(N+1)]\n",
    "\n",
    "# (N-1)本の道路\n",
    "for i in range(N-1):\n",
    "    # 入力の受け取り\n",
    "    a,b=map(int, input().split())\n",
    "    # a,bがつながっていると記録\n",
    "    # (例)connect[1]=[2,3,4]ならば街①と街②,3,4がつながっている\n",
    "    connect[a].append(b)\n",
    "    connect[b].append(a)\n",
    "\n",
    "# (1)各街の色を記録するリストcolorsを作る\n",
    "# 赤：0,青：1,まだ塗っていない：-1\n",
    "colors=[-1]*(N+1)\n",
    "\n",
    "# (2)訪問済みか記録するリストvisitedを作る\n",
    "# visited[x]=Trueなら街xは訪問済み、=Falseなら未訪問\n",
    "visited=[False]*(N+1)\n",
    "\n",
    "# (3)キューを用意する\n",
    "from collections import deque\n",
    "que=deque()\n",
    "\n",
    "# (4)街①を赤で塗る\n",
    "colors[1]=0\n",
    "# (5)街①を訪問済みにする\n",
    "visited[1]=True\n",
    "\n",
    "# (6)街①をキューに入れる\n",
    "que.append(1)\n",
    "\n",
    "# キューが空でない間\n",
    "while 0<len(que):\n",
    "    # (7)キューの左端から要素(街の番号)を取り出す(今いる街)\n",
    "    now_town=que.popleft()\n",
    "    # (8)今いる街の色を確認する\n",
    "    now_color=colors[now_town]\n",
    "\n",
    "    # (9)今いる街から行ける街を確認する\n",
    "    for to_town in connect[now_town]:\n",
    "        # ・もし行ける街が未訪問ならば\n",
    "        if visited[to_town]==False:\n",
    "            # (9-1)訪問済みに更新\n",
    "            visited[to_town]=True\n",
    "            # (9-2)今いる街の色と逆の色を塗る\n",
    "            # 今いる街が赤色なら\n",
    "            if now_color==0:\n",
    "                # 青色を塗る\n",
    "                colors[to_town]=1\n",
    "            # 今いる街が青色なら\n",
    "            if now_color==1:\n",
    "                # 赤色を塗る\n",
    "                colors[to_town]=0\n",
    "            # (9-3)キューに追加する\n",
    "            que.append(to_town)\n",
    "\n",
    "# クエリの読み込み\n",
    "for i in range(Q):\n",
    "    # 入力の受け取り\n",
    "    c,d=map(int, input().split())\n",
    "    # 街の色が同じなら\n",
    "    if colors[c]==colors[d]:\n",
    "        # townを出力\n",
    "        print(\"Town\")\n",
    "    # そうでないならば(街の色が違うなら)\n",
    "    else:\n",
    "        # Roadを出力\n",
    "        print(\"Road\")"
   ]
  },
  {
   "cell_type": "code",
   "execution_count": null,
   "metadata": {},
   "outputs": [],
   "source": []
  }
 ],
 "metadata": {
  "kernelspec": {
   "display_name": "Python 3.7.13 ('base')",
   "language": "python",
   "name": "python3"
  },
  "language_info": {
   "name": "python",
   "version": "3.7.13"
  },
  "orig_nbformat": 4,
  "vscode": {
   "interpreter": {
    "hash": "08a8b3365c8794cd169c696eb07d244554fc02b68625288d9805fd473ed8453a"
   }
  }
 },
 "nbformat": 4,
 "nbformat_minor": 2
}
