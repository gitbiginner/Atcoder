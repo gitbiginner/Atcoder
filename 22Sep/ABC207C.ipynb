{
 "cells": [
  {
   "cell_type": "code",
   "execution_count": null,
   "metadata": {},
   "outputs": [],
   "source": [
    "# https://atcoder.jp/contests/abc207/tasks/abc207_c\n",
    "\n",
    "N= int(input())\n",
    "\n",
    "section = []\n",
    "\n",
    "# make closed range\n",
    "for i in range(N):\n",
    "    t, l, r = map(int, input().split())\n",
    "    \n",
    "    if t==1: section.append([l,r])\n",
    "    elif t==2: section.append([l, r-0.1])\n",
    "    elif t==3: section.append([l+0.1, r])\n",
    "    else: section.append([l+0.1, r-0.1])\n",
    "\n",
    "ans=0\n",
    "\n",
    "for i in range(N):\n",
    "    for j in range(i+1, N):\n",
    "        i_l, i_r = section[i]\n",
    "        j_l, j_r = section[j]\n",
    "\n",
    "        if max(i_l, j_l) <= min(i_r, j_r):\n",
    "            ans += 1\n",
    "print(ans)\n",
    "\n"
   ]
  }
 ],
 "metadata": {
  "kernelspec": {
   "display_name": "Python 3.7.13 ('base')",
   "language": "python",
   "name": "python3"
  },
  "language_info": {
   "name": "python",
   "version": "3.7.13"
  },
  "orig_nbformat": 4,
  "vscode": {
   "interpreter": {
    "hash": "08a8b3365c8794cd169c696eb07d244554fc02b68625288d9805fd473ed8453a"
   }
  }
 },
 "nbformat": 4,
 "nbformat_minor": 2
}
