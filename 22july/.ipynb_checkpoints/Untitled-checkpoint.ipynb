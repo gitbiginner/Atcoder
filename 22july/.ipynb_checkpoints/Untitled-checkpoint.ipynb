{
 "cells": [
  {
   "cell_type": "code",
   "execution_count": null,
   "id": "aa94bc1e",
   "metadata": {},
   "outputs": [],
   "source": [
    "#203\n",
    "a, b, c = map(int, input().split())\n",
    "\n",
    "if a == b & b == c:\n",
    "    print(a)\n",
    "elif a == b:\n",
    "    print(c)\n",
    "elif b== c:\n",
    "    print(a)\n",
    "elif c==a:\n",
    "    print(b)\n",
    "else:\n",
    "    print(\"0\")"
   ]
  },
  {
   "cell_type": "code",
   "execution_count": null,
   "id": "c09bbcb2",
   "metadata": {},
   "outputs": [],
   "source": [
    "N, K   = map(int, input().split())\n",
    "\n",
    "\n",
    "ksum = 0\n",
    "for i in range(1, K+1):\n",
    "    ksum += i \n",
    "\n",
    "nsum = 0\n",
    "for n in range(1, N+1):\n",
    "    nsum2 = n*100\n",
    "    nsum1 = nsum2*K\n",
    "    nsum += nsum1\n",
    "    \n",
    "\n",
    "ans = ksum*N + nsum\n",
    "print(ans)"
   ]
  },
  {
   "cell_type": "code",
   "execution_count": null,
   "id": "17023d67",
   "metadata": {},
   "outputs": [],
   "source": [
    "N, K = map(int, input().split())\n",
    "\n",
    "A, B = list(map(int, input().split()))\n",
    "\n",
    "#ans village num\n",
    "\n",
    "#N friend num\n",
    "#K  money\n",
    "#A[i]  friend i num\n",
    "# B[i]  get money\n",
    "\n",
    "vil=0\n",
    "while K > 0:\n",
    "    for v in range(0, 10**100):\n",
    "        K-=1\n",
    "        vil = v+1\n",
    "        if vil is in A:\n",
    "            K+=B[vil]\n",
    "    \n",
    "print(vil)\n",
    "    \n"
   ]
  }
 ],
 "metadata": {
  "kernelspec": {
   "display_name": "Python 3 (ipykernel)",
   "language": "python",
   "name": "python3"
  },
  "language_info": {
   "codemirror_mode": {
    "name": "ipython",
    "version": 3
   },
   "file_extension": ".py",
   "mimetype": "text/x-python",
   "name": "python",
   "nbconvert_exporter": "python",
   "pygments_lexer": "ipython3",
   "version": "3.7.13"
  }
 },
 "nbformat": 4,
 "nbformat_minor": 5
}
