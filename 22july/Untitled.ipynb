{
 "cells": [
  {
   "cell_type": "code",
   "execution_count": null,
   "id": "aa94bc1e",
   "metadata": {},
   "outputs": [],
   "source": [
    "#203\n",
    "a, b, c = map(int, input().split())\n",
    "\n",
    "if a == b & b == c:\n",
    "    print(a)\n",
    "elif a == b:\n",
    "    print(c)\n",
    "elif b== c:\n",
    "    print(a)\n",
    "elif c==a:\n",
    "    print(b)\n",
    "else:\n",
    "    print(\"0\")"
   ]
  },
  {
   "cell_type": "code",
   "execution_count": null,
   "id": "c09bbcb2",
   "metadata": {},
   "outputs": [],
   "source": [
    "N, K   = map(int, input().split())\n",
    "\n",
    "\n",
    "ksum = 0\n",
    "for i in range(1, K+1):\n",
    "    ksum += i \n",
    "\n",
    "nsum = 0\n",
    "for n in range(1, N+1):\n",
    "    nsum2 = n*100\n",
    "    nsum1 = nsum2*K\n",
    "    nsum += nsum1\n",
    "    \n",
    "\n",
    "ans = ksum*N + nsum\n",
    "print(ans)"
   ]
  },
  {
   "cell_type": "code",
   "execution_count": null,
   "id": "17023d67",
   "metadata": {},
   "outputs": [],
   "source": [
    "N, K = map(int, input().split())\n",
    "\n",
    "A, B = list(map(int, input().split()))\n",
    "\n",
    "#ans village num\n",
    "\n",
    "#N friend num\n",
    "#K  money\n",
    "#A[i]  friend i num\n",
    "# B[i]  get money\n",
    "\n",
    "vil=0\n",
    "while K > 0:\n",
    "    for v in range(0, 10**100):\n",
    "        K-=1\n",
    "        vil = v+1\n",
    "        if vil is in A:\n",
    "            K+=B[vil]\n",
    "    \n",
    "print(vil)\n",
    "    \n"
   ]
  },
  {
   "cell_type": "code",
   "execution_count": null,
   "id": "17fa609c",
   "metadata": {},
   "outputs": [],
   "source": [
    "N, K = map(int, input().split())\n",
    "\n",
    "friends = []\n",
    "\n",
    "for i in range(N):\n",
    "    A, B = map(int, input().split())\n",
    "    friends.append([A, B])\n",
    "\n",
    "friends.sort()\n",
    "now_village = 0 \n",
    "now_village+=K\n",
    "\n",
    "for i in range(N):\n",
    "    friend_village=friends[i][0]\n",
    "    money=friends[i][1]\n",
    "\n",
    "    if friend_village <= now_village:\n",
    "        now_village += money\n",
    "    else:\n",
    "        break;\n",
    "\n",
    "print(now_village)"
   ]
  },
  {
   "cell_type": "code",
   "execution_count": 12,
   "id": "90cf1635",
   "metadata": {},
   "outputs": [
    {
     "data": {
      "text/plain": [
       "[False, False, False]"
      ]
     },
     "execution_count": 12,
     "metadata": {},
     "output_type": "execute_result"
    }
   ],
   "source": [
    "N=2\n",
    "[False]*(N+1)"
   ]
  },
  {
   "cell_type": "code",
   "execution_count": 10,
   "id": "b48ca448",
   "metadata": {},
   "outputs": [
    {
     "ename": "SyntaxError",
     "evalue": "invalid syntax (1088523905.py, line 30)",
     "output_type": "error",
     "traceback": [
      "\u001b[1;36m  File \u001b[1;32m\"C:\\Users\\barualyric\\AppData\\Local\\Temp\\ipykernel_21924\\1088523905.py\"\u001b[1;36m, line \u001b[1;32m30\u001b[0m\n\u001b[1;33m    if visited[to_city] == False\u001b[0m\n\u001b[1;37m                                ^\u001b[0m\n\u001b[1;31mSyntaxError\u001b[0m\u001b[1;31m:\u001b[0m invalid syntax\n"
     ]
    }
   ],
   "source": [
    "#204 c\n",
    "\n",
    "N, M = map(int, input().split())\n",
    "\n",
    "#connect is load info\n",
    "connect = [[] for i in range(N+1)]\n",
    "\n",
    "for i in range(M):\n",
    "    A, B = map(int, input().split())\n",
    "    connect[A].append(B)\n",
    "\n",
    "from collection import deque\n",
    "#\n",
    "# start city => arrive city count\n",
    "\n",
    "def BFS(start_city):\n",
    "    \n",
    "    count = 1\n",
    "    visited = [False]*(N+1)\n",
    "\n",
    "    visited[start_city] = True\n",
    "\n",
    "    que = deque()\n",
    "    que.append(start_city)\n",
    "    \n",
    "    while 0<len(que):\n",
    "        now_city = que.popleft()\n",
    "\n",
    "        for to_city in connect[now_city]:\n",
    "            if visited[to_city] == False:\n",
    "                count+=1\n",
    "\n",
    "                visited[to_city] = True\n",
    "                que.append(to_city)\n",
    "    return count\n",
    "\n",
    "ans = 0\n",
    "\n",
    "for x in range(1, N+1):\n",
    "    ans += BFS(x)\n",
    "\n",
    "print(ans)\n",
    "\n",
    "\n",
    "\n",
    "\n",
    "\n",
    "\n",
    "\n",
    "\n",
    "\n",
    "\n"
   ]
  },
  {
   "cell_type": "code",
   "execution_count": null,
   "id": "c069a636",
   "metadata": {},
   "outputs": [],
   "source": []
  },
  {
   "cell_type": "code",
   "execution_count": null,
   "id": "73d92269",
   "metadata": {},
   "outputs": [],
   "source": []
  },
  {
   "cell_type": "code",
   "execution_count": null,
   "id": "583c953e",
   "metadata": {},
   "outputs": [],
   "source": []
  },
  {
   "cell_type": "code",
   "execution_count": null,
   "id": "bd6bb790",
   "metadata": {},
   "outputs": [],
   "source": []
  },
  {
   "cell_type": "code",
   "execution_count": null,
   "id": "bc5c32ac",
   "metadata": {},
   "outputs": [],
   "source": []
  }
 ],
 "metadata": {
  "kernelspec": {
   "display_name": "Python 3.7.13 ('base')",
   "language": "python",
   "name": "python3"
  },
  "language_info": {
   "codemirror_mode": {
    "name": "ipython",
    "version": 3
   },
   "file_extension": ".py",
   "mimetype": "text/x-python",
   "name": "python",
   "nbconvert_exporter": "python",
   "pygments_lexer": "ipython3",
   "version": "3.7.13"
  },
  "vscode": {
   "interpreter": {
    "hash": "08a8b3365c8794cd169c696eb07d244554fc02b68625288d9805fd473ed8453a"
   }
  }
 },
 "nbformat": 4,
 "nbformat_minor": 5
}
